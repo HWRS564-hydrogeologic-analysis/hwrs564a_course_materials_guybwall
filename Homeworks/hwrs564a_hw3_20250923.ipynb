{
 "cells": [
  {
   "cell_type": "markdown",
   "id": "c55910c2",
   "metadata": {},
   "source": [
    "# HWRS 564a Analysis Tools Homework 3\n",
    "\n",
    "In this homework you will continue to build your python skills."
   ]
  },
  {
   "cell_type": "markdown",
   "id": "702cf2f1",
   "metadata": {},
   "source": [
    "# Problem 1 - FizzBuzz\n",
    "\n",
    "Write a program that prints the numbers from 1 to 100. But make it also do the following:\n",
    "- for multiples of three print \"Fizz\" instead of the number \n",
    "- for the multiples of five print \"Buzz\" \n",
    "- For numbers which are multiples of both three and five print \"FizzBuzz\"."
   ]
  },
  {
   "cell_type": "code",
   "execution_count": 1,
   "id": "9e8a3022",
   "metadata": {},
   "outputs": [
    {
     "name": "stdout",
     "output_type": "stream",
     "text": [
      "1\n",
      "2\n",
      "Fizz\n",
      "4\n",
      "Buzz\n",
      "Fizz\n",
      "7\n",
      "8\n",
      "Fizz\n",
      "Buzz\n",
      "11\n",
      "Fizz\n",
      "13\n",
      "14\n",
      "FizzBuzz\n",
      "16\n",
      "17\n",
      "Fizz\n",
      "19\n",
      "Buzz\n",
      "Fizz\n",
      "22\n",
      "23\n",
      "Fizz\n",
      "Buzz\n",
      "26\n",
      "Fizz\n",
      "28\n",
      "29\n",
      "FizzBuzz\n",
      "31\n",
      "32\n",
      "Fizz\n",
      "34\n",
      "Buzz\n",
      "Fizz\n",
      "37\n",
      "38\n",
      "Fizz\n",
      "Buzz\n",
      "41\n",
      "Fizz\n",
      "43\n",
      "44\n",
      "FizzBuzz\n",
      "46\n",
      "47\n",
      "Fizz\n",
      "49\n",
      "Buzz\n",
      "Fizz\n",
      "52\n",
      "53\n",
      "Fizz\n",
      "Buzz\n",
      "56\n",
      "Fizz\n",
      "58\n",
      "59\n",
      "FizzBuzz\n",
      "61\n",
      "62\n",
      "Fizz\n",
      "64\n",
      "Buzz\n",
      "Fizz\n",
      "67\n",
      "68\n",
      "Fizz\n",
      "Buzz\n",
      "71\n",
      "Fizz\n",
      "73\n",
      "74\n",
      "FizzBuzz\n",
      "76\n",
      "77\n",
      "Fizz\n",
      "79\n",
      "Buzz\n",
      "Fizz\n",
      "82\n",
      "83\n",
      "Fizz\n",
      "Buzz\n",
      "86\n",
      "Fizz\n",
      "88\n",
      "89\n",
      "FizzBuzz\n",
      "91\n",
      "92\n",
      "Fizz\n",
      "94\n",
      "Buzz\n",
      "Fizz\n",
      "97\n",
      "98\n",
      "Fizz\n",
      "Buzz\n"
     ]
    }
   ],
   "source": [
    "# I've set up the starter loop for you here\n",
    "for n in range(1, 101):\n",
    "    if n % 15 == 0:\n",
    "        print(\"FizzBuzz\")\n",
    "    elif n % 3 == 0:\n",
    "        print(\"Fizz\")\n",
    "    elif n % 5 == 0:\n",
    "        print(\"Buzz\")\n",
    "    else:\n",
    "        print(n)\n"
   ]
  },
  {
   "cell_type": "markdown",
   "id": "23154267",
   "metadata": {},
   "source": [
    "# Problem 2 - Fibonacci Sequence\n",
    "\n",
    "Write a program that computes the Fibonacci sequence up to the n-th term, where n is provided by the user. The Fibonacci sequence is defined as follows:\n",
    "- F(0) = 0\n",
    "- F(1) = 1\n",
    "- F(n) = F(n-1) + F(n-2) for n > 1\n"
   ]
  },
  {
   "cell_type": "code",
   "execution_count": 2,
   "id": "b0b023a2",
   "metadata": {},
   "outputs": [
    {
     "name": "stdout",
     "output_type": "stream",
     "text": [
      "55\n"
     ]
    }
   ],
   "source": [
    "def fibonacci(n):\n",
    "    if n == 0:\n",
    "        return 0\n",
    "    elif n == 1:\n",
    "        return 1\n",
    "    else:\n",
    "        return fibonacci(n - 1) + fibonacci(n - 2)\n",
    "\n",
    "n = 10\n",
    "print(fibonacci(n))  # Expected output: 55\n"
   ]
  },
  {
   "cell_type": "markdown",
   "id": "d94efda0",
   "metadata": {},
   "source": [
    "# Problem 3 - List Intersection\n",
    "Write a program that takes two lists as input and returns a new list containing only the elements that are common to both lists. "
   ]
  },
  {
   "cell_type": "code",
   "execution_count": 3,
   "id": "4d479995",
   "metadata": {},
   "outputs": [
    {
     "name": "stdout",
     "output_type": "stream",
     "text": [
      "[1, 2, 3, 5, 8, 13]\n"
     ]
    }
   ],
   "source": [
    "a = [1, 1, 2, 3, 5, 8, 13, 21, 34, 55, 89]\n",
    "b = [1, 2, 3, 4, 5, 6, 7, 8, 9, 10, 11, 12, 13]\n",
    "\n",
    "# Create your code below this line to find the intersection of lists a and b\n",
    "intersection = []\n",
    "for x in a:\n",
    "    if x in b and x not in intersection:\n",
    "        intersection.append(x)\n",
    "\n",
    "print(intersection)"
   ]
  },
  {
   "cell_type": "markdown",
   "id": "ad817e0f",
   "metadata": {},
   "source": [
    "# Problem 4 - Iris dataset analysis\n",
    "\n",
    "Loading data - here I provide a dataset for you to work with for the first set of exercises\n",
    "\n",
    "The iris dataset is a classic and very easy multi-class classification dataset. It describes measurments of sepal & petal width/length for three different species of iris.\n",
    "\n",
    "Your task is to group by the 3 different species and take the mean across the whole dataframe. This will give you a single row for each species with the mean of each column."
   ]
  },
  {
   "cell_type": "code",
   "execution_count": 4,
   "id": "f5f15808",
   "metadata": {},
   "outputs": [
    {
     "name": "stdout",
     "output_type": "stream",
     "text": [
      "            sepal length (cm)  sepal width (cm)  petal length (cm)  \\\n",
      "species                                                              \n",
      "setosa                  5.006             3.428              1.462   \n",
      "versicolor              5.936             2.770              4.260   \n",
      "virginica               6.588             2.974              5.552   \n",
      "\n",
      "            petal width (cm)  \n",
      "species                       \n",
      "setosa                 0.246  \n",
      "versicolor             1.326  \n",
      "virginica              2.026  \n"
     ]
    }
   ],
   "source": [
    "from sklearn.datasets import load_iris\n",
    "import pandas as pd\n",
    "\n",
    "# Load the iris dataset\n",
    "d = load_iris()\n",
    "iris_df = pd.DataFrame(d['data'], columns=d['feature_names'])\n",
    "iris_df.index = pd.Series(\n",
    "    pd.Categorical.from_codes(d.target, d.target_names),\n",
    "    name='species'\n",
    ")\n",
    "iris_df.head()\n",
    "\n",
    "species_means = iris_df.groupby('species', observed=False).mean()\n",
    "\n",
    "\n",
    "print(species_means)\n",
    "\n"
   ]
  },
  {
   "cell_type": "markdown",
   "id": "8e4689f1",
   "metadata": {},
   "source": [
    "# Problem 5 - Plotting iris data\n",
    "How do you make a scatter plot of the sepal length (cm) versus the petal length (cm) for the `versicolor`` species?"
   ]
  },
  {
   "cell_type": "code",
   "execution_count": 7,
   "id": "e286374a",
   "metadata": {},
   "outputs": [
    {
     "data": {
      "image/png": "[encoded data removed]",
      "text/plain": [
       "<Figure size 800x600 with 1 Axes>"
      ]
     },
     "metadata": {},
     "output_type": "display_data"
    }
   ],
   "source": [
    "import matplotlib.pyplot as plt\n",
    "import pandas as pd\n",
    "from sklearn.datasets import load_iris\n",
    "\n",
    "\n",
    "data = load_iris()\n",
    "iris_df = pd.DataFrame(data.data, columns=data.feature_names)\n",
    "iris_df['species'] = pd.Categorical.from_codes(data.target, data.target_names)\n",
    "\n",
    "\n",
    "versicolor_df = iris_df[iris_df['species'] == 'versicolor']\n",
    "\n",
    "plt.figure(figsize=(8, 6))\n",
    "plt.scatter(\n",
    "    versicolor_df['sepal length (cm)'],\n",
    "    versicolor_df['petal length (cm)'],\n",
    "    color='blue',\n",
    "    edgecolor='black',\n",
    ")\n",
    "\n",
    "plt.xlabel('Sepal Length (cm)')\n",
    "plt.ylabel('Petal Length (cm)')\n",
    "plt.title('Iris Versicolor: Sepal vs. Petal Length')\n",
    "plt.grid(True)\n",
    "plt.show()\n",
    "\n",
    "\n",
    "\n",
    "\n",
    "\n",
    "\n"
   ]
  },
  {
   "cell_type": "code",
   "execution_count": null,
   "id": "26168bbf",
   "metadata": {},
   "outputs": [],
   "source": []
  }
 ],
 "metadata": {
  "kernelspec": {
   "display_name": "hwrs564a_course_materials_guybwall",
   "language": "python",
   "name": "python3"
  },
  "language_info": {
   "codemirror_mode": {
    "name": "ipython",
    "version": 3
   },
   "file_extension": ".py",
   "mimetype": "text/x-python",
   "name": "python",
   "nbconvert_exporter": "python",
   "pygments_lexer": "ipython3",
   "version": "3.11.13"
  }
 },
 "nbformat": 4,
 "nbformat_minor": 5
}
