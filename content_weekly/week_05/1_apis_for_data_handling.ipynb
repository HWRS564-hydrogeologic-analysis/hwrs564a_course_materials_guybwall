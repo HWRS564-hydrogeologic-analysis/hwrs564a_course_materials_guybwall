{
 "cells": [
  {
   "cell_type": "markdown",
   "metadata": {},
   "source": [
    "# Some lessons on working with real world data: APIs and data wrangling"
   ]
  },
  {
   "cell_type": "code",
   "execution_count": null,
   "metadata": {},
   "outputs": [],
   "source": [
    "import urllib\n",
    "import numpy as np\n",
    "import pandas as pd\n",
    "import matplotlib.pyplot as plt"
   ]
  },
  {
   "cell_type": "markdown",
   "metadata": {},
   "source": [
    "Let's start to work towards being able\n",
    "to grab data on the fly from the USGS website. And now we've defined\n",
    "the site id for the Verde River, as well as some start and end dates\n",
    "to get the data for. With those defined clearly it makes it much\n",
    "easier for someone else to understand what you are trying to do."
   ]
  },
  {
   "cell_type": "code",
<<<<<<< HEAD
   "execution_count": 3,
=======
   "execution_count": null,
>>>>>>> cff3b267c4f4500fbba18e12aad781327adfe067
   "metadata": {},
   "outputs": [],
   "source": [
    "args = {\n",
    "    'site_no': '09506000',\n",
    "    'begin_date': '2021-09-25',\n",
    "    'end_date': '2022-09-25'\n",
    "}\n",
    "query = urllib.parse.urlencode(args)"
   ]
  },
  {
   "cell_type": "code",
<<<<<<< HEAD
   "execution_count": 4,
   "id": "5726ae25",
   "metadata": {},
   "outputs": [
    {
     "data": {
      "text/plain": [
       "'site_no=09506000&begin_date=2021-09-25&end_date=2022-09-25'"
      ]
     },
     "execution_count": 4,
     "metadata": {},
     "output_type": "execute_result"
    }
   ],
=======
   "execution_count": null,
   "id": "3834176e",
   "metadata": {},
   "outputs": [],
>>>>>>> cff3b267c4f4500fbba18e12aad781327adfe067
   "source": [
    "query"
   ]
  },
  {
   "cell_type": "markdown",
   "metadata": {},
   "source": [
    "Now we can use f-strings to insert these values into the query URL\n",
    "which will point to the same website that we saw in the lecture portion\n",
    "You can verify this by copying the URL into your web browser."
   ]
  },
  {
   "cell_type": "code",
<<<<<<< HEAD
   "execution_count": 6,
=======
   "execution_count": null,
>>>>>>> cff3b267c4f4500fbba18e12aad781327adfe067
   "metadata": {},
   "outputs": [],
   "source": [
    "verde_url = (\n",
    "    f'https://nwis.waterdata.usgs.gov/usa/nwis/dv/?'\n",
    "    f'cb_00060=on&format=rdb&referred_module=sw&{query}'\n",
    "\n",
    ")\n",
    "print(verde_url)"
   ]
  },
  {
   "cell_type": "markdown",
   "metadata": {},
   "source": [
    "With that we need to download the data and get it into pandas.\n",
    "To download the data we'll use the `urllib` module which is \n",
    "built into the python \"standard library\" of stuff you get for\n",
    "free when you install python. We use the `urllib.request.urlopen`\n",
    "function which simply opens a connection to the url, just like \n",
    "going to the url in your web browser. Then, we can put the `response`\n",
    "into `pd.read_table`. There are a lot of other parameters going \n",
    "into this function now, and this is very common for when you scrape\n",
    "data directly from the internet because formats vary.\n",
    "\n",
    "Anyways, let's walk through a few of them:\n",
    " - comment='#': Lines beginning with a '#' are comments that pandas should ignore\n",
    " - skipfooter=1: Skip the last line, not including this leads to no data ¯\\_( ツ )_/¯\n",
    " - sep='\\s+': The separator is whitespace (one or more spaces) - this is a regular expression (or regex)\n",
    " - names: The names of the columns. I set these because the USGS ones are trash\n",
    " - index_col=2: Set the 3rd column as the index (that is, \"date\")"
   ]
  },
  {
   "cell_type": "code",
<<<<<<< HEAD
   "execution_count": 10,
   "id": "540d471a",
   "metadata": {},
   "outputs": [
    {
     "name": "stdout",
     "output_type": "stream",
     "text": [
      "<http.client.HTTPResponse object at 0x76aa77c53ac0>\n"
     ]
    }
   ],
   "source": [
    "response = urllib.request.urlopen(verde_url)\n",
    "print (response)"
   ]
  },
  {
   "cell_type": "code",
   "execution_count": 11,
=======
   "execution_count": null,
>>>>>>> cff3b267c4f4500fbba18e12aad781327adfe067
   "metadata": {},
   "outputs": [],
   "source": [
    "\n",
    "df = pd.read_table(\n",
    "    response,\n",
    "    comment='#',\n",
    "    skipfooter=1,\n",
    "    sep='\\t',\n",
    "    names=['agency', 'site', 'date', 'streamflow', 'quality_flag'],\n",
    "    index_col=2,\n",
    "    engine='python'\n",
    ").iloc[2:]\n",
    "df.index = pd.DatetimeIndex(df.index)"
   ]
  },
  {
   "cell_type": "code",
<<<<<<< HEAD
   "execution_count": 13,
   "id": "3aa420aa",
   "metadata": {},
   "outputs": [
    {
     "data": {
      "text/html": [
       "<div>\n",
       "<style scoped>\n",
       "    .dataframe tbody tr th:only-of-type {\n",
       "        vertical-align: middle;\n",
       "    }\n",
       "\n",
       "    .dataframe tbody tr th {\n",
       "        vertical-align: top;\n",
       "    }\n",
       "\n",
       "    .dataframe thead th {\n",
       "        text-align: right;\n",
       "    }\n",
       "</style>\n",
       "<table border=\"1\" class=\"dataframe\">\n",
       "  <thead>\n",
       "    <tr style=\"text-align: right;\">\n",
       "      <th></th>\n",
       "      <th>agency</th>\n",
       "      <th>site</th>\n",
       "      <th>streamflow</th>\n",
       "      <th>quality_flag</th>\n",
       "    </tr>\n",
       "    <tr>\n",
       "      <th>date</th>\n",
       "      <th></th>\n",
       "      <th></th>\n",
       "      <th></th>\n",
       "      <th></th>\n",
       "    </tr>\n",
       "  </thead>\n",
       "  <tbody>\n",
       "    <tr>\n",
       "      <th>2021-09-25</th>\n",
       "      <td>USGS</td>\n",
       "      <td>09506000</td>\n",
       "      <td>83.7</td>\n",
       "      <td>A</td>\n",
       "    </tr>\n",
       "    <tr>\n",
       "      <th>2021-09-26</th>\n",
       "      <td>USGS</td>\n",
       "      <td>09506000</td>\n",
       "      <td>106.0</td>\n",
       "      <td>A</td>\n",
       "    </tr>\n",
       "    <tr>\n",
       "      <th>2021-09-27</th>\n",
       "      <td>USGS</td>\n",
       "      <td>09506000</td>\n",
       "      <td>160.0</td>\n",
       "      <td>A</td>\n",
       "    </tr>\n",
       "    <tr>\n",
       "      <th>2021-09-28</th>\n",
       "      <td>USGS</td>\n",
       "      <td>09506000</td>\n",
       "      <td>183.0</td>\n",
       "      <td>A</td>\n",
       "    </tr>\n",
       "    <tr>\n",
       "      <th>2021-09-29</th>\n",
       "      <td>USGS</td>\n",
       "      <td>09506000</td>\n",
       "      <td>187.0</td>\n",
       "      <td>A</td>\n",
       "    </tr>\n",
       "  </tbody>\n",
       "</table>\n",
       "</div>"
      ],
      "text/plain": [
       "           agency      site  streamflow quality_flag\n",
       "date                                                \n",
       "2021-09-25   USGS  09506000        83.7            A\n",
       "2021-09-26   USGS  09506000       106.0            A\n",
       "2021-09-27   USGS  09506000       160.0            A\n",
       "2021-09-28   USGS  09506000       183.0            A\n",
       "2021-09-29   USGS  09506000       187.0            A"
      ]
     },
     "execution_count": 13,
     "metadata": {},
     "output_type": "execute_result"
    }
   ],
   "source": [
    "df.head()"
   ]
  },
  {
   "cell_type": "markdown",
   "metadata": {},
   "source": [
    "Now convert the streamflow data to floats and\n",
    "the index to datetimes. When processing raw data\n",
    "it's common to have to do some extra postprocessing"
   ]
  },
  {
   "cell_type": "code",
   "execution_count": 14,
   "metadata": {},
   "outputs": [
    {
     "data": {
      "text/html": [
       "<div>\n",
       "<style scoped>\n",
       "    .dataframe tbody tr th:only-of-type {\n",
       "        vertical-align: middle;\n",
       "    }\n",
       "\n",
       "    .dataframe tbody tr th {\n",
       "        vertical-align: top;\n",
       "    }\n",
       "\n",
       "    .dataframe thead th {\n",
       "        text-align: right;\n",
       "    }\n",
       "</style>\n",
       "<table border=\"1\" class=\"dataframe\">\n",
       "  <thead>\n",
       "    <tr style=\"text-align: right;\">\n",
       "      <th></th>\n",
       "      <th>agency</th>\n",
       "      <th>site</th>\n",
       "      <th>streamflow</th>\n",
       "      <th>quality_flag</th>\n",
       "    </tr>\n",
       "    <tr>\n",
       "      <th>date</th>\n",
       "      <th></th>\n",
       "      <th></th>\n",
       "      <th></th>\n",
       "      <th></th>\n",
       "    </tr>\n",
       "  </thead>\n",
       "  <tbody>\n",
       "    <tr>\n",
       "      <th>2021-09-25</th>\n",
       "      <td>USGS</td>\n",
       "      <td>09506000</td>\n",
       "      <td>83.7</td>\n",
       "      <td>A</td>\n",
       "    </tr>\n",
       "    <tr>\n",
       "      <th>2021-09-26</th>\n",
       "      <td>USGS</td>\n",
       "      <td>09506000</td>\n",
       "      <td>106.0</td>\n",
       "      <td>A</td>\n",
       "    </tr>\n",
       "    <tr>\n",
       "      <th>2021-09-27</th>\n",
       "      <td>USGS</td>\n",
       "      <td>09506000</td>\n",
       "      <td>160.0</td>\n",
       "      <td>A</td>\n",
       "    </tr>\n",
       "    <tr>\n",
       "      <th>2021-09-28</th>\n",
       "      <td>USGS</td>\n",
       "      <td>09506000</td>\n",
       "      <td>183.0</td>\n",
       "      <td>A</td>\n",
       "    </tr>\n",
       "    <tr>\n",
       "      <th>2021-09-29</th>\n",
       "      <td>USGS</td>\n",
       "      <td>09506000</td>\n",
       "      <td>187.0</td>\n",
       "      <td>A</td>\n",
       "    </tr>\n",
       "  </tbody>\n",
       "</table>\n",
       "</div>"
      ],
      "text/plain": [
       "           agency      site  streamflow quality_flag\n",
       "date                                                \n",
       "2021-09-25   USGS  09506000        83.7            A\n",
       "2021-09-26   USGS  09506000       106.0            A\n",
       "2021-09-27   USGS  09506000       160.0            A\n",
       "2021-09-28   USGS  09506000       183.0            A\n",
       "2021-09-29   USGS  09506000       187.0            A"
      ]
     },
     "execution_count": 14,
     "metadata": {},
     "output_type": "execute_result"
    }
   ],
=======
   "execution_count": null,
   "metadata": {},
   "outputs": [],
>>>>>>> cff3b267c4f4500fbba18e12aad781327adfe067
   "source": [
    "df['streamflow'] = df['streamflow'].astype(np.float64)\n",
    "df.index = pd.DatetimeIndex(df.index)\n",
    "df.head()"
   ]
  },
  {
   "cell_type": "markdown",
   "metadata": {},
   "source": [
    "And voila - we have a nice dataframe with streamflow data in it\n",
    "You can do all of the standard pandas stuff"
   ]
  },
  {
   "cell_type": "code",
<<<<<<< HEAD
   "execution_count": 16,
   "metadata": {},
   "outputs": [
    {
     "data": {
      "text/plain": [
       "Text(0.5, 1.0, 'graph')"
      ]
     },
     "execution_count": 16,
     "metadata": {},
     "output_type": "execute_result"
    },
    {
     "data": {
      "image/png": "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",
      "text/plain": [
       "<Figure size 640x480 with 1 Axes>"
      ]
     },
     "metadata": {},
     "output_type": "display_data"
    }
   ],
=======
   "execution_count": null,
   "metadata": {},
   "outputs": [],
>>>>>>> cff3b267c4f4500fbba18e12aad781327adfe067
   "source": [
    "df['streamflow'].plot()\n",
    "plt.semilogy()\n",
    "plt.ylabel('Streamflow [cfs]')\n",
    "plt.xlabel('')\n",
    "plt.title('graph')"
   ]
  },
  {
   "cell_type": "markdown",
   "metadata": {},
   "source": [
    "Now, you might be thinking... why only one year of data?!\n",
    "And that's a great question. Before getting too far, let's\n",
    "just turn our little data processing things into some helper\n",
    "functions to save space, and make this easier for you to port\n",
    "to your homework"
   ]
  },
  {
   "cell_type": "code",
<<<<<<< HEAD
   "execution_count": 17,
=======
   "execution_count": null,
>>>>>>> cff3b267c4f4500fbba18e12aad781327adfe067
   "metadata": {},
   "outputs": [],
   "source": [
    "def create_usgs_url(site_no, begin_date, end_date):\n",
    "    return (\n",
    "        f'https://nwis.waterdata.usgs.gov/usa/nwis/dv/?'\n",
    "        f'cb_00060=on&format=rdb&referred_module=sw&'\n",
    "        f'site_no={site_no}&'\n",
    "        f'begin_date={begin_date}&'\n",
    "        f'end_date={end_date}'\n",
    "    )\n",
    "\n",
    "def open_usgs_data(site, begin_date, end_date):\n",
    "    url = create_usgs_url((site), begin_date, end_date)\n",
    "    response = urllib.request.urlopen(url)\n",
    "    df = pd.read_table(\n",
    "        response,\n",
    "        comment='#',\n",
    "        skipfooter=1,\n",
    "        sep='\\t',\n",
    "        names=['agency', 'site', 'date', 'streamflow', 'quality_flag'],\n",
    "        index_col=2,\n",
    "        engine='python'\n",
    "    ).iloc[2:]\n",
    "\n",
    "    # Now convert the streamflow data to floats and\n",
    "    # the index to datetimes. When processing raw data\n",
    "    # it's common to have to do some extra postprocessing\n",
    "    df['streamflow'] = df['streamflow'].astype(np.float64)\n",
    "    df.index = pd.DatetimeIndex(df.index)\n",
    "    return df"
   ]
  },
  {
   "cell_type": "code",
<<<<<<< HEAD
   "execution_count": 18,
   "metadata": {},
   "outputs": [
    {
     "data": {
      "text/plain": [
       "Text(0.5, 0, '')"
      ]
     },
     "execution_count": 18,
     "metadata": {},
     "output_type": "execute_result"
    },
    {
     "data": {
      "image/png": "iVBORw0KGgoAAAANSUhEUgAAAjoAAAGdCAYAAAAbudkLAAAAOnRFWHRTb2Z0d2FyZQBNYXRwbG90bGliIHZlcnNpb24zLjEwLjYsIGh0dHBzOi8vbWF0cGxvdGxpYi5vcmcvq6yFwwAAAAlwSFlzAAAPYQAAD2EBqD+naQAApRdJREFUeJztnXeYFEX6x7+zEZaw5CWDSFBAAUmCCQRB9MR06umpqHd6p+t5inonnj/xDIc5nO4dhlO84InhzAoiEhRRkJxzkrSkZYmbpn9/zPZMdU91d3V39XT3zPt5Hh5mZ3qqa6orvPXWGyKKoiggCIIgCIJIQ7L8rgBBEARBEIRXkKBDEARBEETaQoIOQRAEQRBpCwk6BEEQBEGkLSToEARBEASRtpCgQxAEQRBE2kKCDkEQBEEQaQsJOgRBEARBpC05flfAb6LRKHbs2IEGDRogEon4XR2CIAiCIARQFAWHDh1C69atkZVlrLfJeEFnx44daNeund/VIAiCIAjCAdu2bUPbtm0NP89YQaekpAQlJSWorq4GEGuohg0b+lwrgiAIgiBEKC8vR7t27dCgQQPT6yKZnuuqvLwchYWFOHjwIAk6BEEQBBESRNdvMkYmCIIgCCJtIUGHIAiCIIi0hQQdgiAIgiDSFhJ0CIIgCIJIW0jQIQiCIAgibSFBhyAIgiCItIUEHYIgCIIg0hYSdAiCIAiCSFsyVtApKSlB9+7d0b9/f7+rQhAEQRCER1BkZIqMTBAEQRChgyIjEwRBEASR8ZCgQxAEQRBE2kKCDhEISsuPY+KsDdh3uMLvqhAEQRBpRI7fFSAIABjzxnys2lmOmWtK8fYtg/yuDkEQBJEmkEaHCASrdpYDAL7fuN/nmhAEQRDpBAk6BEEQBEGkLSToEARBEASRtpCgQxAEQRBE2kKCDkEQBEEQaQsJOgRBEARBpC0k6BAEQRAEkbZkrKBDST0JgiAIIv3JWEGnuLgYK1euxPz58/2uSsay/0glRjw3C3+fucHvqhAEQRBpSsYKOoT/vDxrA9buPownpqz2uyoEQRBEmkKCDuEbFdVRv6tAEARBpDkk6BAEQRAEkbaQoEP4RiTidw0IgiCIdIcEHYIgCIIg0hYSdAiCIAiCSFtI0CF8IwI6uyIIgiC8hQQdgiAIgiDSFhJ0CIIgCIJIW0jQIQiCIAgibSFBhyAIgiBSyLb9R/HfeVtRSUFTU0KO3xUgMheKo0MQRCZy9lMzoCjAvsMVuP3cLn5XJ+0hjQ5BEARBpBBFif3//cb9/lYkQyBBh/ANUugQBJHJKFD8rkJGQIIO4Rs0xAmCIAivIUGHIAiCIIi0JWMFnZKSEnTv3h39+/f3uyoZCx1dEQSRySik1k4JGSvoFBcXY+XKlZg/f77fVSEIgiAIwiMyVtAhCIIgCD8hjU5qIEGH8A2Ko0MQBEF4DQk6BEEQBOED5F6eGkjQIXwjQiodgiAIwmNI0CF8Q6EDaoIgCMJjSNAhCIIgCB+gvV5qIEGH8A06uiIIgiC8hgQdgiAIgiDSFhJ0CN8gfQ5BEAThNSToEARBEASRtpCgQxAEQRA+QLbIqYEEHYIgCCLOy7M24K7JixGN0jJMpAck6BAEQRBxJnyxGh8s2o45G/b6XZX0h2TJlECCDkEQBJHEscoav6tAEFIgQYfwD3K7IojAQsoG76FcV6mBBB2CIAiCINIWEnQI34iQSocgAguNzvCy9KcyDJ4wHR8v2eF3VQIBCTpE4KBknwThPzQKvcerqe43/1qAHQeP447/LvLmBiGDBB0icNSQWytBEIRjqmqiflchUJCgQwQOEnMIgsgEaK5LDSToEIGDTq4IgiAIWZCgQ/hGxMDaMdNdLudt2o///LDF72oQBEGkBTl+V4Ag9GS6RufKl+cCADo1q49BJzb1uTYEQRDhJm00OkePHkWHDh1wzz33+F0VwiWZLuiobN1/xO8qEARBhJ60EXQee+wxnH766X5Xg7CBUZyOTD+6UiGBjyDSG+9CaVAUJJa0EHTWrVuH1atXY9SoUX5XhZAALfAEQRBuoEmUxXdBZ/bs2bjooovQunVrRCIRfPjhh0nXlJSUoGPHjqhTpw4GDhyIefPmaT6/5557MGHChBTVmPCaKEk6AGiqCjN/m7keb/2w1e9qEAGHxnhq8F3QOXLkCHr16oWSkhLu55MnT8bYsWMxfvx4LFy4EL169cLIkSNRWloKAPjoo4/QtWtXdO3aNZXVJjyEBj8RZrbsO4Inp6zB/R8s87sqRMZCR1csvntdjRo1yvTI6dlnn8XNN9+MG2+8EQAwceJEfPbZZ3j99ddx33334fvvv8fbb7+Nd999F4cPH0ZVVRUaNmyIBx98kFteRUUFKioq4n+Xl5fL/UGEa0ihE4PaIZwcOl7tdxWkQP3Pe6iNU4PvGh0zKisrsWDBAgwfPjz+XlZWFoYPH465c2MuuBMmTMC2bduwefNmPP3007j55psNhRz1+sLCwvi/du3aef47CD6GcXRo9BMEQRCSCLSgs3fvXtTU1KCoqEjzflFREXbt2uWozHHjxuHgwYPxf9u2bZNRVUIiJOfEIO+zcGIkwIeNdPkdBOH70ZVMbrjhBstr8vPzkZ+f731lCMfQ8k4Q/kMbDu+hJk4NgdboNGvWDNnZ2di9e7fm/d27d6Nly5Y+1YqQRcTAYI6OrgiCIAhZBFrQycvLQ9++fTF9+vT4e9FoFNOnT8egQYN8rBnhJVGSc4g0IcxCOx1dpQCP+gc9Oy2+H10dPnwY69evj/+9adMmLF68GE2aNEH79u0xduxYjBkzBv369cOAAQPw/PPP48iRI3EvLKeUlJSgpKQENTU1bn8CIRmyTYkR4jUyozHSVIYN6n/e41UT07PT4rug8+OPP2Lo0KHxv8eOHQsAGDNmDCZNmoSrrroKe/bswYMPPohdu3ahd+/emDJlSpKBsl2Ki4tRXFyM8vJyFBYWuiqLkAwNUiJNUBTaXROE3/gu6AwZMsRSvXv77bfj9ttvT1GNCL+ho6sY1AzhhAQbwm+oD2oJtI0Okd4YxtGhJT50VFZHESUJNQlqEcKMpT8dxJZ9R/yuRtpDgg4ROOh8uZaQNMSxyhr0efhLjC751u+qEETouPudJX5XIe3JWEGnpKQE3bt3R//+/f2uSsZipF0Nx/JOqCzcegBHKmuwfDulUyEIu5Qdq/K7CmlPxgo6xcXFWLlyJebPn+93VQgddARCpAthdi8niHQhYwWdTODbdXtx/evzsG3/Ub+rQqQxZPeohQxBCTuQMOw9JOikMdf+4wfMXrsH97wbrjPgTBz360sPY33pIc17oWkGWtgNCc0zJHyD+oj3+O5eTnhP6aEKv6tgi2iGSToV1TUY/uwsAMDqR873uTaEW9IlYCBBpAuk0ckAAqsaNdDxB7S2nnG0IhGd+9Dx6vjroD42Qhx6hgThPxkr6JDXVXAJrGBGcCENRrpC4zAlUDN7TsYKOpnkdRW2cRS2+sqEDZYYFoGPjG+NoeCXhBXUQ7wnYwUdwn8M4+iEZIGXhXGEaCKMkOBH+A11QS0k6GQAQZUbjKoV1PoSfGhSNYb6MmFFpm3s/IAEnQwgbOrzcNVWMhn94wki/Tl0XBsJmYa895CgQ/iGkSYg09zLWWPe2/6z0MeaEAThNX/5fLXfVcg4SNDJAMImN4StvjL5ccuB+OuwtEOEjFI0UGsQZqzYcdDvKmQcGSvoZJJ7eVAXTEMj3IDWl+BDco4x1JcJK6iPeE/GCjqZ5F4eBOwY3IXNpsgrqBXCCQl+hBn67kHznfdkrKBDpI6FWw+g/2Nf4YNFPwldTzscIl2gRYzwAxK2tZCgQ3jOb/+1AHsPV+KuydrkokYRdUnQiREWt1OaUwnCBjopJCTDPNSQoJMB+L1g2vWiyrhdcMglBXbe9ruvBY0wN0eY6074R9nRSsxeuwc10eB0IBJ0MoDgdDcxAjQ+CAdUVkf9roLPhFxyJVKKFwKln/nnRr80B9e/Pg///n6Lb3XQQ4IOEThIKxA2EpPqih3l6PrAF3j005U+1oeQQZBH4f4jlSiZsR47Dx7zuyq2SXcxeOv+owCAz5bu9LkmCUjQyQDCJjeErLquSSc3+6e/XAMAeO3bTT7XJBiE8BGGgt+/vQhPTV2DX776g99VcU11ND01oEEyQchYQSeT4uj4D38lT6cFPpMhDw8t6dIeQR6H36zbCwDYuPeIzzVxz+7yCullpksflEXGCjqZFEfHf8napjFykGfYFOL/c7MPPTotYe7LQe1/YW7TTCJIjynH7woQ3hOkDgfEjFWXbT9oaJUfsOr6RtCemxG0eSRSyfLt5X5XwRWkbUk9JOgQKef+D5bhvQXGwQPDssAThBXUleVTQxOEJUGQpYL0lDL26CqT8L/DaYedmZADZF72ciPC2AphrLNsgrDIyCCowzAnK11aOEHUYUwNRVGwee+RQB7nBalOJOhkAAHqb0KErb5uCfu0TdnLjQlzXw5q1bNDLujwau90c/f4F6sx5OmZePHr9e4q5QFB6j8k6KQhczfsw0Uvfsu8E6QuZ01QjSBTTZgXSYLwinSUq50ex708eyMA4Nlpa2VWRwpBmr/IRicNufrV7zV/+9/h7HpdeVQNwhPScN2RR4j7cpCOHlj8jPorA54GNKBNnTaQRicDCNsYyrRBb3T0Q5qtcEJHeall7+EKrC895Hc1XCF7zqM+qIUEHSIF2Bt0tMDHWLvrEP79/ZZAJcezIqhaAL+gvuw9/R79CsOfnY1ttakHgg5vNkzHfhKkX5Sxgk4mRUYO2+ITsup6xoeLd+CBD5fjvQXb/K4KYQPaS/vD8u0H/a6CY9JyzgvQj8pYQSezIiOHC3Iv17L0J7kTePnxKny0eDuOVFRLKc9IS75hz2Ep5YeZMHfloNbdqL/Vyc1ObUUkEtCmdkWQflPGCjqZRFAnLCNCVt3QUfyfhfj924vxh/eXSinPyDj0nneXSCmf8IegHqcYaczyc2k5I/hQz8gAwnZ0FdD5NW1QEyJ+tnSn9LLZrlZ+rEp6+WGDunLq+M/3W/2ugmO8nKP9OtIL0rJDgg4ROOjoKj0we4yhE75tkC4OL0F9REbt+9myndgcgmzmvPrLbmr2HoeOyzmitsuy7QexZV8wngcJOhlAQOcrQ4I6wRL2MBJY9x6uwJlPzMDTU9ekuEapJ8wCXRirvr40nHZhXra1n0eQ5zw107d7s5CgkwmEbMIKWXU9J+gaAqP6GUV7fWX2RmwvO4aXZgQvbL0MwhzQLhyCmXH7/v7tRSmshzO4/SMMzR5iSNDJAPweQ3YX6nBMtoRTnCYwDAvsDjq9f2nwOFJZ43cVHCFb66KZc6kTkqCTCYRNcEjzdTCtCaqnDmEfepIewVPoUGN7Cgk6GYDfY8j+IPa7xgThnDAfXbEEdYMU9KNcJ3jZ0sF8iqmFBB0icKzdfVhaMLswENQFxQkiP0VkoVIUBSt3lON4VTiPIlTC9mjDVl+CT7oI27IgQScDCNvk9ey0tRj2zCy/q5F27Dx4DPdJChLI4sUO+38Lt+OCv36D6/7xg/zCCSGCOm2k4xLu5WYnbPO/F+T4XQHCe/y2m3CyEO4qPy6/IhlO8X8WYuHWMr+rIcRb82LB3+ZvPuBzTdzh99hzRUCrno6ZuQPa1GlDxmp0Miupp981INwgSw29etchKeWYkYZrkG3CLNyEt+bhgZu9XHLDs+MwzP1RFhkr6FBSTyIsyJqoUi2DuJm800ZeosFHCCBbGGHHHm10BY+uysvLbRfcsGFD298hCCJ8eGH4SJoh/yFNgDdw+zY1tacICTqNGjWydS4aiUSwdu1adOrUyXHFCInQIAo1sgQJr2wbjIr96cCxlNYjiIRt6IXBAzAde4/sVqeglVqEjZHfe+89NGnSxPI6RVFwwQUXuKoUIRfamRFAuBYIco/1n6DKPGGXk3l9W3ZbB/XZ+YWQoNOhQwecffbZaNq0qVChnTp1Qm5urquKEfKgTk8ACJekkyaEeeyFuOqBJhWCmtZGh56kkKCzadMmW4UuX77cUWUIbzDKIk0Eg1Q9HZJzUkOqhtuRimrUy/cuQkhQp4101PaR1t1bpHhdlZWVySiG8Ai/h1D6TUsEi90dqtDladJpvFrApizfiR7jp+Kv09dJLdfvuSJTkX90FXwbnVQm97Ut6DzxxBOYPHly/O8rr7wSTZs2RZs2bbBkyRKplSMIQh5hMgIOT0394b7/LQMQiyLuFUHVMgS1XqLwhqF8Y+Rgs+dQBfo+Og0PfbwiJfezLehMnDgR7dq1AwBMmzYN06ZNwxdffIFRo0bh3nvvlV5Bwj1+q6CDPuiCztQVu6SU45Wcwx4l+N3Xgga1B6GHb4zsXRydIE7Ar8/ZhANHqzDpu80puZ/tA95du3bFBZ1PP/0UV155JUaMGIGOHTti4MCB0itIpBeV1VG/qxA6Sg9V4GhlNQry3NljeKUlCfsOO4x49izpUXoOV6OTYe2eao2tbY1O48aNsW3bNgDAlClTMHz4cAAxibSmJtyZhgnvefFruTYFmcKxyswaWyE6ZUsiFZvpVBxDZtrim05o4+gE70Gmenzb3iJedtlluOaaa9ClSxfs27cPo0aNAgAsWrQInTt3ll5BIvywffrjJTt8q0dQ2VHGD6zHUi3BcM8PG53K6ijycnT7qRALMZlE8JbH8LO7/Di+Wbc36f1Mi6OTas852xqd5557Drfffju6d++OadOmoX79+gCAnTt34rbbbpNeQSK9oDUumT++v8zyGhkTlx9t/9Hi7T7cNTh4FcMkJc8y6KtlCPm/D1MfeiWIjzGQGp3TTjsN06dPR+PGjTFhwgTcc889KCgo0Fxz1113eVJBIr3ICvOZhEfsPVThdxVcYTaRHnV45JaOsVJk4sUwKpmxHm+myDg0U9l7mD/WpSf1ZF8HUdBJ8f2ENDqrVq3CkSNHAAB//vOf468Jwja0fjlCxkToh4zp9J4kD6eep6auQSkjdAdwfUxbMu3oKtUDXEij07t3b9x4440488wzoSgKnnrqqfiRlZ4HH3xQagWDwvGqGlRURVFYQKkt3EAaHWcEfuIyINOfdlifGxDcuge1XiIYVd3LnxTE5kr1vCAk6EyaNAnjx4/Hp59+ikgkgi+++AI5OclfjUQiaSvoXP/6PMzbtB/f3XcuWjeq63d1QkumL3xOkZPGI0QqnRCTmtxCmdeu6UxNVHbYjSCKN/4hJOh069YNb7/9NgAgKysL06dPR4sWLTytmNeUlJSgpKRE2CV+3qb9AIAZa0rxy4EdvKxaWpOB654UwrqLzeI8b579zbHKGuTnZCGr9gvUT8yh9gknVTV8geaTJTtx13kNpN0n6Ek9U91/bXtdRaPR0As5AFBcXIyVK1di/vz5tr5HRpLuoPbzD68mF3YeXfbTQe09BZ733sMVOPnBKbjy5bm2vkd4SxAXyLCzfHs59/0DRytTXBN/Cbx7+YQJE/D6668nvf/666/jiSeekFIpIr1gF1jaiTojLO7lhyqqtfcUuKma4uLHLQdMr/vn3M0ombHecd38wCtZgYZRelEnN1tqeQHPABF8jc7LL7+Mk046Ken9Hj16YOLEiVIqRaQX7GQfpsSSQUKOjU7qcfq09d0kGlXw4Ecr8NTUNUIBFgn3hLPHhZOzuzSXWl7QtXGBdC9n2bVrF1q1apX0fvPmzbFz504plSLSFxJznCHFFDkgtshO6lHJ2DYY2TkEEa/C76fiWQZ8rUwreLZssgjicwy8Rqddu3aYM2dO0vtz5sxB69atpVQqyJBCwh3Ufs4I+g7NCBENnsh5fQWTDDYn2/a0lVLC+aSSCervCGq93FAjO3s5+zqAc0eqNfu2c13dfPPNuPPOO1FVVYVzzz0XADB9+nT84Q9/wN133y29gkR6QYKOM+Q4l3vT+GZaC1l3ZCdrL3e/svHORidEjUBYIiGVnQaN15XcokOJbUHn3nvvxb59+3DbbbehsjJmKV6nTh388Y9/xLhx46RXMGjQ9GIfjTEytaAjgrgrE8Hpzk3/Pa27rJsapZ6aqIJsydIZbRjCScemBdi872jS+7Jt8Nj5Iqz2fTKxrQOORCJ44oknsGfPHnz//fdYsmQJ9u/fn7aBAgm5hGk3HiSkeF35YaPjQZleTNuKouC9BT9hxY6D1hfbYNXOcnR/cErovMWA8ArXQcZI8I/KVumwZQfwMQbeRkelfv366N+/P3r27In8/HyZdSLSDM18SVtRR4Q0LrK0x+31XD1z7R7c8+4SXPjXb6WWO/7jFaiojuKpqWuklkuEE6PhIP3oin0dQIE1kHF0LrvsMpSX8wMd8fjlL3+J0tJSx5UKMrROu4OazxlhVT+v2XXI0ff0/cTrydppPXmk4lHROOKTnxNsQ3WjByd9fAf8qDeQGp2PPvoIe/bsQXl5ueW/gwcP4pNPPsHhw4e9rnvKCKJEHCYoYKB75BxdeWSMbFK3l2dvTK6H/m+Banm9Qw1bt0yF10oYp72OTev5XQVHeHl05VWIAzcEMqmnoijo2rWr13UJLJqAd6GbEoMFtZ4zwrjoiCLy27w2RiYBPD0I4qIugpdHV9LzhdpEUZQkwTzV401I0JkxY4btgtu0aWP7O0ElrMcGQYQiIzsjrBO4U/TdhP39ngg6JIInEdQ+Z6bRC6LhLYuxjY53XldBbJJUjzchQeecc87xuh6BRjN4aD50BTWfM9JZ1uZGTza53osFmOTv9CDom1JDrysP6+13myiK/+Mr4JZbwcDvjpJOZPnd40NKxndB5vcHfdeeLoSxzwW9zinT6Bj+kZmQoCNA0AdPqCA5JwkR41oZWowwy5ieGyMLNs7BY1VY+lOZxVWJ+nnV5mF+ll4S9E2p0XOTbUejaDYGPmt0OO8F0usq0/G7o6QTND87I526oH6S4/UJ08jI8qsk3C+HPTMLo1+ag1lr93hQC3FSktTT+1tIJ6zjRH6uq2Db6KQaEnQECFJH2bT3CA4eq/K7Go6hnagzZAjbQW177o4v6RqPjZEF22bv4QoAwJcrdsmvhA1SYcwZVKFhtUnMo6BvSo2em5chTPxuE95vS7VTim1B5/XXX8emTZu8qEtgYTuKn2vFhj2HMfTpmej7yDQfa+EO8m5JRmTQB3v69h6te7n/cXQy/Xn4ye/fXmT4WcDlHOOjKy+TevrcJiIbGa+xLehMmDABnTt3Rvv27XHdddfhtddew/r14cvjYgfF5zgEKt9t2AcAqA6ZNSYr3MzduM/HmoQXKQEDAyJk6uvBP7oy/r4nR1dBVXf5SFDdy6tqjOsV1uCuNZLndK83Bm4JvI3OunXrsHXrVkyYMAEFBQV4+umn0a1bN7Rt2xbXXnutF3X0HY1Gx8cJkabizCWIk5VKKqqmNUb2/n5uSEkKiFTY6AS8nXmEbA8YR9b4Vsth1yy/2yQI/ciRjU6bNm3wy1/+Es899xxeeOEFXHfdddi9ezfefvtt2fULBGynCfKCE1SCujMME1KSeoZYUlY0E7f/cXRoGggmftujOEWGMPLR4u3o/fA0zN2wL/BrVuCPrr788kvcf//9GDx4MJo2bYpx48ahcePGeO+997Bnj7+eCF7BdsLgdRkiE5BzdBUmjL2uPBF0pJeolutNyeF6lqnDb+2FyoMfLcet/16QJGQYnQg4Pbpq16Ru/PXv316Mg8eqMOaNeZp28LtNgrDRFYqMzHL++eejefPmuPvuu/H555+jUaNGHlQrWGg6q4/PLKw78qDYhgQVoTg6AdyVeYlZX/982U70aF2Yuhty8fd5kE0Rn6CMk3/O3QIAWLP7EE5q2TD+fkoCBiqmfwaCwHtdPfvsszjjjDPw5JNPokePHrjmmmvwyiuvYO3atV7Uz5KysjL069cPvXv3Rs+ePfHqq69Kv0fU491kukNzsntk7MrCvDiyw27pTwellx+Elvn7zA246MVvAxM+IihCgx2CVuPqGr1Gh3+dzKaOKgoa1knoMPx+jrzbB94Y+c4778T//vc/7N27F1OmTMHgwYMxZcoU9OzZE23btvWijqY0aNAAs2fPxuLFi/HDDz/gL3/5C/bts+/Zs3pnOY5X1XA/05x3Oq6pe4KiGVEUBcu3H0RFNb+99ASj1uEmCOpfI+zWLSlgINnHAACemLIay7YfxD++zazwHTIJ+kbUqK87DRjIWxMUACN7tEz8HcAmCbyNDhBb6BYuXIhp06Zh6tSpmDFjBqLRKJo3by67fpZkZ2ejoKAAAFBRUQFFURxJsD+fOBdXvfI997Oox4aQouwoO+bbvVle/WYjfvbit+j2wBSh6600CZ2a1+O+v23/Udt1c4vfux9DXFRr3+EKXDHxO2zae0RefTzGLGCgJ/eTKGy5ranIBiIVC0VQh4IZUb8NUhzidF3h9duooiA7K6L5O3AE/ejqoosuQtOmTTFgwAD85z//QdeuXfHmm29i7969WLTIOJCTEbNnz8ZFF12E1q1bIxKJ4MMPP0y6pqSkBB07dkSdOnUwcOBAzJs3T/N5WVkZevXqhbZt2+Lee+9Fs2bNbNcDAJZsK+O+H5TgSy/NCEa8or98vlpqeUaJPn/YtF/qfaz4ZMkO9Hkk5rUQNNx0u6e/XIP5mw9Iq4sdBnRsIqUcdtwN6SZ/QxUUbakwKahuGGWGIK7pIkg10VG8T5lihyA8E9uCzkknnYR//vOf2LdvHxYsWIBnnnkGo0ePdmyUfOTIEfTq1QslJSXczydPnoyxY8di/PjxWLhwIXr16oWRI0eitLQ0fk2jRo2wZMkSbNq0CW+99RZ2797tqC5GBN1Vz4rWhXX8roIpRnN2ZXVqIzX+7r+LUHa0CmNen2d9cYpxsys7dLxaYk3EOKllAwBA8wb5Uspjf32rwrqG16UKL6eBN+ZsllrejrJjuOfdJVixw55tk0xNQDSq4KGPV+CDRT9JK5N7n4DPz0YCtVOvKxF5N4htkupthW2vq6eeekpqBUaNGoVRo0YZfv7ss8/i5ptvxo033ggAmDhxIj777DO8/vrruO+++zTXFhUVoVevXvjmm2/w85//nFteRUUFKioq4n+Xl5db1rGCWXDDuMsJep2NNDp+2aVUy04lLAE3c5UfRsiq6lyWSj5ocXS8pLI6imhUQVaWcaXsVPd3/12EBVsO4L0FP2Hz4xcKf09mO3+3YR8mfbcZAHBpH+9sOYM+1xmngJAcGdnj3HB24M3jgTdGBoBZs2bhoosuQufOndG5c2eMHj0a33zzjey6obKyEgsWLMDw4cPj72VlZWH48OGYO3cuAGD37t04dCiW5O3gwYOYPXs2unXrZljmhAkTUFhYGP/Xrl07y3p8vHhH/HUYNTqyBQaT+ZeLVadOhSeCHYI0WareE26q5PWcwntOqqDj9BmyO9+bJs1HOaOVClUcHYcFW/1CO8LrWpMkmGbITEuwZX9q7MOCoL0wWyOM3cvl1uGdHxOasyCuWak+KrYt6Pz73//G8OHDUVBQgDvuuAN33HEH6tati2HDhuGtt96SWrm9e/eipqYGRUVFmveLioqwa1cse/CWLVtw1llnoVevXjjrrLPwu9/9DqeccophmePGjcPBgwfj/7Zt22ZZjyb18uKvg7QIiiK7zkO7tbB1vdWcbKzRIfJyYkPUzWTlh7ZCfaa8hUdfHd6kx9b569WleOnrhH1aEOZt0c2D07oGYXFy6gnE48+frJRWlhn+t5oznBpRiwi8fq9ZAejK9o+uHnvsMTz55JO466674u/dcccdePbZZ/HII4/gmmuukVpBKwYMGIDFixcLX5+fn4/8fHt2A6e2TQQnC8Azs43fk6aV9B6kY4OgoQoMQZgs7LD/SCUA4MuVcuzlDhytjL/2YtduJGw7QUb1/F6cALl9LlX2dn7PdbE6mHxo0M8cH/G6rY9PBP7oauPGjbjooouS3h89ejQ2bZIb/6FZs2bIzs5OMi7evXs3WrZsafAt+bD9JAgDyS5+V9mpRsf3iqcIs19ZeihmT+ZGYPBDjtwqOTSA50kKAxbLx2rhs1Vdhx1AdkbtVBD0Kqfq6Epbts8BAznvBT6OTrt27TB9+vSk97/66ishexc75OXloW/fvpr7RaNRTJ8+HYMGDXJVdklJCbp3747+/ftbXhsU93KnyDd0k4uRzU8Im9oz/jtvq+PvBi4iskB99JdQdHItqXikMgWdNo1S4ykXhI2oA4WO8z4t0A/8bhHeM0n1lGT76Oruu+/GHXfcgcWLF2Pw4MEAgDlz5mDSpEl44YUXbFfg8OHDWL8+cf6+adMmLF68GE2aNEH79u0xduxYjBkzBv369cOAAQPw/PPP48iRI3EvLKcUFxejuLgY5eXlKCwsNL3Wa48Pr5G9W5A+mRjZ6ISvqR3h9Zj33BjZ4/IBrQ2DF4tZ0IyRrTU63q8UMtt5ZI+WeH3Opni5XgnfQdfoGOFloMMgCH9+Y1vQufXWW9GyZUs888wzeOeddwAAJ598MiZPnoyLL77YdgV+/PFHDB06NP732LFjAQBjxozBpEmTcNVVV2HPnj148MEHsWvXLvTu3RtTpkxJMlD2EsXgdVjwu6NbTWmGGh0aoHLwQaHTokF+/NjNCfqFfNn2RAyYICxmXlchCL9RpjEyK9coirc7+iXbytCrXSPvbuABXj5vv6dR/tEVvwMcq6zBs9PWYGSPlugnKdgo4EDQAYBLL70Ul156qZQKDBkyxHJBu/3223H77bdLuZ8T2OqFUaMju8p2i7PavRnZ6ATuyCWk+BH198p+7fDSjPWol5dtfbHN6q3eaR37yi4y+5qMcA6pFvLvfXdJ0ns1Eu2H2daNKgqyPOyTF5fMsRUvSDbO3MszK2CgUcX/NnM9Xv1mE179ZpPUZ+gojk6mEaTgSyIk2zdIttGxWZxTjU5ONgk6MvBDXszNjk0tqnu8KTb705tztziokTlB62lWO3zZz/TdBckRi70SttxqL8K8/zESqJ0H1rRuDL+XLG72coNrN+7xJt6SkEancePGwjue/ftTm58oJWiMkf3uNvbxvcZWAQMNLsjNIjlcBn6sC7k5sbtWO13VAr6YeT0NyJxnnDalzA3SzvLjnpRrB0VR8LeZG3Bi83o4v2cr7+5j8pnRs/DSwy2IGh1WntDYbHk07oUEneeff96bu/tISUkJSkpKUFNjnSmY7SZBODu3IgJ9nYPtdWUkQ5uFwCfEMdujyDAM5S3KqpAqZGTJuX2qn7zWhsQ7Y1lRZA5Zp79F1tHV9rJj+Gzpzvjffq278zcfwFNT1wCAb0dbsr2uDh6rsr7I7zXL4v5e22wBgoLOkiVL8Mgjj6BevXqYPXs2Bg8ejJwcR+Y9gcGe1xX/dViQbqNjs0Droyv+FZki53i9qJrZ6FRHFeR6cESo/iTHGp0Uk0pjWREsva5SUEFZG6QfNu7zpFy77HFhHO81TjU6Ir/Jb40ON9eV5nP++zIROht48cUXcfjwYQDA0KFD0/N4ygT2QfndaUTQT4JBr7Lfi0q6Y9a+XvXnFTtiBsO8CTzoj1ukRbxOOCuzdKFdPwdZfUPf/2R6cwURs59nnL3co8og+PM/u3H2SoAXUst07NgRf/3rXzFixAgoioK5c+eicePG3GvPPvtsqRUMGgHvMwCSFxK/hTOnXldhjMwaRMza36uukVOrjhNZ1Hi1S/XREbsAxSZei/ub/Cw5KSD87/uyxp9+cVdSkw0imMgOGCiA39Mo1xiZaYct+4/ixOb1Pa2DkKDz1FNP4be//S0mTJiASCRi6FoeiUSEbF7Cxg8bExqsMBgj69cI2TWW7XWV4RkgPNdo+aHRUT3mFCVmp2Nmb2W3Bp1byJ8UNUdX0ku3j9VjSYUY6FXf8EuIS5XsbKbtI2PkGOyzeP6rdXjx6j6x9z26n5Cgc8kll+CSSy7B4cOH0bBhQ6xZswYtWtjLYB1Wvl23Fy/NSERuDmKnsUK+MbJNGx0rryvJLpeEFjNbJxnzK6+IbOam1VEFeczfbhecbi0buCvAAqmGwB7VIUwpILwOd5EOpPNxnlXAQO3RlTd1sGVRXL9+fcyYMQMnnHBC6I2RRb2uvl2/V/N3GPpjROd3FfQ6Gy3E6Tz4WTzX6Jgst14tOtnMj3KSoNKsSbwIl69xdxUQ5L2PjOx/3/fKbsR1HB0EQ+tmhJNH52UKiCD0JT1GGlRfNTos55xzDgCgtLQUpaWliEa1o+HUU0+VUzOPEfW6ytGtwmwo+jDhp8us08i8U5bvQlGDOhjePXXpPvzA68jFpu7lHi1m7FGVE82AWZ29tt2SuS4cOl7t6HvWXleOipVaBxHWlx7G63M2a94Lw/G/Vxg9Ny/7tN/Nbfm8mY99NUZmWbhwIa6//nqsWrUq6Qekg42OXiDQ2xZ8s26v/iuhIKoAsryIbdvoOLzvN+v24pt1e7H6kfNRJ1cglQDBxVQ7EgCNDo9U11nm9MpW71CFM0HH2kbHe0lHxuI7/NlZSe/5bRwLAEcrq1GQl/pTCaPn5q0xst/u5VafM0dXAuUt++kgJn23GfeO7IYCwWFg+0nfeOON6Nq1K/7xj3+gqKjI98BastHH0NBrdEIBp8pCniQBpaommtaCjvfGyD4cXTHjJmqhNbI7h3gRm0cfR8cKr7USfu/CgeAaI0ciEdcN9MJX6zDugpNdleEEXzQ6npUsB3V+KD9ehd2HjptfDOCil74FAGwvO4pXftFD6B62BZ2NGzfi/fffR+fOne1+NRToO0W2TtAZfGJT4+8qCrbsO4r2TQp8jerLu3MQdlFOCXHVhfC6p5h7Xbkvn7fmaI6uJC+Ynh9dBaDH+b0LB7wTttw+PxlC5vrSw67LcIJxZGTv7un3USHfvTxZ43vqQ1/aKnftbvFnaDuZ0LBhw7BkyRK7XwsN+k6h1+h8t2Ef7nx7Ebfz/HPuFgx5eibu/2CZp3W0gjeY/Jw43acYkFSRDMXsmMOrSbB7q4bx1/qFTV8fu3F0vDm6Yide6cXbxqoKYbHR4RGE8exlFRwZI3vYKEFobz1GkZHtYEdgtq3Ree211zBmzBgsX74cPXv2RG5urubz0aNH2y0yUFhpdADgw8U78LthXZKCHD3zZSyPytvzt+Hxy8NhlJ0KXM/JARyodlG9KvzQ9HntXs6jX8fGyIrEypdtWOuFRkef68oKv72uUtGLvNKcBeHoyi+MIyN793venr8NY8/rihYN63h2DzO4KSBsHhXzsOOpZlvQmTt3LubMmYMvvvgi6bMwGSMbuZfrB+Gjn63ifr/Ky5jdLuENJpk7Bm3uL/feXOG0HBKnJqrg/Odno25eNj4qPiOpvTzPdWXmweTRgpEViSA7K4JojWI5ifPqZ+5e7q5uVgRhCfX7uCFWB2/K9S1gYIru4+To0+vj2F+8+j2+vnuIp/ewg1EcHTvYmbtsH1397ne/w7XXXoudO3ciGo1q/oVFyAFi7uUrV67E/PnzNe+zbVdtIswEYB4yhH905c29hJJTu5xhgmAz4YYdZcewrvQwlv50EBXVyX3K6wnYKMUG4F38jhYN8uP3tZrEzerHwwvhTKNKd1m8UX+1M6FbXhqipJ7J5XpSbCiQnb1clI17jnhavilcGx3Tj4WwIxzaFnT27duHu+66C0VF6R3bxAq/BR27UrDMHaJdNb9rQSfkE6P1ouVxBTxPAaEtY3Sv1ojUanQc3yPFcXQ0fVTI60qsXDYzvJ1mCIIw4JW2z+1clI4a4HTO68f7ZdqNhbPfbudbtgWdyy67DDNmzLD7tdCgOZYxu84HLcONZ3RM3N/m7WWOI/beqRif6TsFWNMg332sD3NjZNfFJ6EKONmCGh27eLP7tRcZWRTtWBEvNwg2On5qgc0I+nzgpHvWBP1HeYjj/mDje7Zn0a5du2LcuHH49ttvccoppyQZI99xxx12iwwU7CRn1mGtXOa8oFHdvMT9Ta7j1sKjgZQKgS8I9gpeYtZrJt3UH5f/fS5aFTo3JEx1Us+WtXXNMtDo6OvDGzdmwpn3xsjyylUMXlt+LwBd3qtxFwzXeZ/shIzy+qWzRsfipzmXczz2uqpfvz5mzZqFWbO0US8jkUjoBR22vwXNNiT5yIg/aHiDyU9XUZEorhOvPQ2Ltpbhi+W7sHX/Ue09nFYuJJgJyHVzY0PUzeKeSq+rn53aCsVDYzG2EkdX5t+xuz3wPo6OnGsA7YIqVaMTYvdyt88v6EdXtjehSO+jKx5s/3Uq5NnpnrYFnU2bNtn9SqhgJyb7Gh0PKmR0f5vXBzXKqcr5PVvh/J6t8NWq3Umf8W6hKAr2HK5Aiwb+uEw6xW5zqcKCm4nQ66SeahEdmxbgpWtOi78vaoxsd9x4nQJC5m5fs3GyUax1Cgjv8cqx1C+FThCC+PtljOwnfIWBu1x4sXLFsW2jk+6EpbuZjQveWPLqdwlpdCwmGFajUZ9jk8IbKA98uBwDHpuOj5fssK6Az2iOQ3kxJUy+m107Qt0Yhqb66EolXvekgIHQ/c05ukqxMTKL29KNmtSWoBOAmSidj668xKzdSKMTgx3fTuc2O/3IkaXjTz/9hI8//hhbt25FZWWl5rNnn33WSZEpxyiOjuJwB5YKhDckKYyMLFKunY3U01f0wnnPzda+ybnFf37YGrt+6hqM7tXaxh38Zd/hShQ0ER92oloRM1IVk0Z/BKcaI8vue14vCiL1dSIE2Du6sl28dIKqBQ6CZkY2Xnm4BQHu6Qfz+milN4lvWWwLOtOnT8fo0aPRqVMnrF69Gj179sTmzZuhKApOO+006wICQnFxMYqLi1FeXo7CwsL4+5qjK5Ndld2duQy0sQfsDQzvgn8JXGRjZupS1AC/OacTXp61UegeQdj52uHSv32HHx8YrnnPrHlysmJqETfGin4k9QQSxsh2jq7UAJRmPcaLRUEx/MOje1hgbaPj/WrvXWRkT4oNNWEzRo5GFeEo79yDK6b/Lt9eLqlWxtg+uho3bhzuueceLFu2DHXq1MH777+Pbdu24ZxzzsEVV1zhRR1TSqA1OkznsFs3Wb9FURTM3biPeUNOuSz6AHJmk37QnpEVew9X2Lq+Vs5xlbHbNGCgp0dXfI0OO0EqisIN1sdLvaIShMjITlrNTlsHwUbHq67h9kjM+ddTowoyNUY2GIth0uh8t2Evej38JT5avN3vqghjW9BZtWoVrr/+egBATk4Ojh07hvr16+Phhx/GE088Ib2CqUYxeK1HxJPIL3g1k7Wgrdp5yHa5dlsqWzcZfLF8l80SwoWZIOIq6F4tnmcvN3g/EUfH/P68KKlmu0XPbXS8WuBtCGhBCKmQzpGR/aqCUa/2WniXyY1vzMeh49X4/duLha4PQl+2LejUq1cvbpfTqlUrbNiwIf7Z3r175dXMJ7ReV/aOrlKJqTEyZ2WTVVv95OfFZKhf4+Zv2i/9HmFBRtA9Uxsdn4+u9GES1DGnF3ZZdpUfx8Y9h+VUMn5f5rVHY9tOuVZXpsJOxSstQ7rb6JjPzfz3w2SMHPT252Fb0Dn99NPx7bffAgAuuOAC3H333Xjsscdw00034fTTT5dewVQjqtHxA1EbHW6uK0kDKS9H22W8aCP9br7aZLsTgM2Cp7CxaJzujEw1OhInWP1tjIyRWQ2W/u5qdcyOrgDgTx8sd1JFIYSa2UGz2VnMgmCz4ZWWIQi/LWiE6ejKbm66IPw028bIzz77LA4fju2m/vznP+Pw4cOYPHkyunTpEhqPKzOiGo2O8XV+REa2ur/M642wYz+jYulebnEPN/YpQcDS3kLg6AqILZQ52fb7mLkxsu3ihDGKAaQJFqYoXAHeajI9WuVdAmGvmsROWwehyzsVrD9buhOLth7A/ReczP1c5LetLz2Eto0LUCc321Edgkv4IyObaVuDim1Bp1OnTvHX9erVw8SJE6VWyG8WbS3DyB4tY3+Ep+9p4MfRMf8xC7YcQL38bJzUsqHpdUkbbYE2sjss9PeoTqNEMBee2irpPbP2YbVbNYriKB6EX3F0VKFMr5HTGx/zjZHNy66WHs1O7Mja1R3sGCNbDKxU2Ag6XXuL31oIADitQ2ODcs0LnrG6FDdOmo+TWjbAlDvPTvo89tsDPCcwVdt58Dh6tkl49RoeXQVB7SFK+OQcZwEDy8rK8Nprr2HcuHHYvz9mP7Fw4UJs3x4eK2wjpjCGr3aPh7yGndzsWvabTVp7DlXg8r9/h/Of/8ayDskaHcuv2EZ/dKWfGOdvDq/NTo6gSyYATLvrbM3uyelRQqoiI+tRf2tVjbFG51hlDbe/Wml0vNwAizSJEzseO4uZ5aUhsNEpLT/Ofd+qz7238CcAwOpdh0yvY6lrU/PjlVyx51CFpt1enb1R87n+sXVpUR9AyGx0/K6AA2wLOkuXLkXXrl3xxBNP4Omnn0ZZWRkA4H//+x/GjRsnu36+YvfoymuSc12JYza57Cg7JlyOs6Mre0NDfw/9JHDtaz/EXwfBot8ObRrVFb62Xn6O9ujKExsdR0UKkVOrltFr5FjB6615W7kaHasYHV4+d6+KtmWjYxVHx21lBHDtBm5YrqtiufA0palm3qb96P/YV7hp0vz4e1ZjVj09CNPRld35XGjj4PE8blvQGTt2LG644QasW7cOdeok8gxdcMEFmD17tsk3g0VJSQm6d++O/v37a97XBgw0xo8w5poFweZ3RatrNy+RSLFuj670da+oTqzOYZge2Drm5yTvPM3mDY2g4/AIzzypp8QW1N0n1+joirnu0PFqro2OlR2A3XpHowr+NnO9oTbQrteVk02QrRQQAejYbtdeo9/gxdxZL89/W55J320CACzeVhZ/z8q+UB2bYTq6snuawRtPesHG659vW9CZP38+fvOb3yS936ZNG+zaFZ54J8XFxVi5ciXmz5+veV/jdWXqXp5MKlV6pi6M3OvFfssrOlWr1X2tdiJObCmSNDohmgR4WGWwNpo4IhHtgu+0HfwLGMjX6Ojvr9VUxv630ujYXYQ/XLwdT05ZgysmzrW8NgwanVTg9jjF6NuuBSim5L9cegr6tG+E3w/vavk9r80NeEfE+vlRXwdVOxKmODphxLZtY35+PsrLk0M2r127Fs2bN5dSKT/R7uzMrvNBoyOo0uENaNHaTp6/FbcOOdHwc710btYM8zfvxzWvfp9ko2GFk+OxIKMYvBYhS+d1JRsvmzY3y0ijw9odKVzbMytTJruq/o17jph+bvcZOWk3mTY6qbARdDvujOZI13F0GGPkawa2xzUD29suQ+ac8vXq3WhVyD+S1mt09MJQPJddyOc4M8Rs3rzFtkZn9OjRePjhh1FVVQUgNmlt3boVf/zjH3H55ZdLr2Cq0Wp0TK7zuV/aNYYUHdjHq+xtLczqcfc7S4SEHP2krY+hYraoefUcnpyyGm/VJg51i2LRqYyMhdX3c1xGRzY7U5chPBktaKrXVZIxMvM6qmjfUMuy8iqqsrkFtiMYGP2e0kN841q35XKvDYDXlduxZXyElz6L+sod5bhp0o8Y9QLfkaPG5NgWSHgXOhmHfrWjFz1P9Le8OH2do/JtCzrPPPMMDh8+jBYtWuDYsWM455xz0LlzZzRo0ACPPfaYo0oECfGknqlHfHLjqVDFrrY6U046urKpWRJBH5TQj93O32ZuwP0fLJNSlpXdl1U7ZcU1Iw4FHZPPvHUvV4+ujCf7qKJwbc+sFvpt+49hg43oyJo+XhM1F54N3i8tt5enTI+dU9wgHGW47RtG3w+R3a0l60oZzzDOQDPzOIz9rdVuhgHbxsiSrgGAZ6attXVvFdtHV4WFhZg2bRrmzJmDJUuW4PDhwzjttNMwfPhw6y+HAMXwDy1+d0q7YcZFhTaryU3/qRcLZYHOsDAIk74brLSEVtNGPMKwwz5nbozsqEgu+tvkGgho7HU1UcVxstqrXv4+KRO8ceUS9zjnqZloVj8PH91+Jve+XrmX2xkr1tnLbd/eNt7Z6LjsdBJ+e6r2TlZtmKWzwcuy8ePSSDHm+W+xJehUVVWhbt26WLx4Mc444wycccYZXtUrEJja6KSsFgl4yQ+513Hek+V1Zadcp/NRri5anGn28hD4Xdn16FFRn7dRhGHxcoyfhJfq77gxcpJBpomBtY3q2MkEz7bA9rJj2F52LJY5nds2yZX4bOnOeCA8wOJY2+BH2Hl+QejVXh1d+bVHfOjjFfHXXswbi7eWJb2nn7uSbXQSr2uiCtIhEHTd3GwcYyKXB+Go0tbRVW5uLtq3b4+aGu/Cr/uO4M6Ot/geOFrpQYX4yIyjo7nO8uhKMf1bBnobHfOkkNJvLx12UuX+FIvteVzQcex1ZfyZl8eCcfdyk6MrJenoypv6cPO/GdqQJL/HCjmAM0HEjiYjCIuDa2Nkg1ay+m1eKat2HkzYWHnRvNs58ciS7qP7caxGx257+9VDrJ6PSAgS/Xteb1ht2+j86U9/wv333x+PiJxunNK2MP7atPE5H6Vyp2L3VuaG1exC7P9gy9Xlcwq7R4LdYxE9bjU6ZoKUjD5rVISRMbLmu4reZifxvkx49m1VNWw8JnM7Kj1O6icz11UYspenMo6OFV6ZGrjNbxjRaXTCgKVNoYM2CdTRFQC89NJLWL9+PVq3bo0OHTqgXr16ms8XLlxo8M1w0LggN/7aXD3tL3ZtdEQnF6vJzY6NjtNJICdLlyFdd4u2jevipwPi0Zz9xuroyqiV1PfjLqgeGCPL1Bzon3dO/OjK2MgqZozM2uikTqNTVRPlJo0UGStO6mn0/KJRBXuPaI/h1OK/W78Xj3y2Cn+5tCf6tG8c/zxVXlfGx3si3zf6vW5qBUeTr95LL1WyVvLRlRaNRsdmuwRB68dD/xuDUE3bgs7FF1+c0izdqSaqWZTMrvP36Zlpm3hRZU1temwMtuSAgebXi6FfILV/D+jYRPN3/45N8NOBWF61AIwhS6KKYKcywI0LKiAnYGA0qlgG8dOTiIysP+5k7y9ue+YGXs2PVdWgQZ3cpPdFmsTJ+Df6zi3/+hFfrSrlXntNbbqTX772A1Y+fH7881RNwXqNm93v8vDKm8tOXVJl22dVV42NThAkAhk46C+B0+g89NBDHlQjOLCLiWk04QD3yexsjqAjSaOTVK5Z4lNbJSXI0Rkjd65NfMcrN8jPgYctE53a91XNiPM4Osafibg8vz1vK/7y+Sq8edMAjVbBCtHIyCzqn7IfK1+jw4715DqYcbii2vAzwwXeQFDVCzlAcrscrfTHLjJq0xOIxagZrdqXTaxsp1zT7+gFnRTNG/r76JUEGsN8u44gjmvlFvP+YG+brV4RMBudTp06Yd++fUnvl5WVoVOnTlIqlQqMcl2xE4xdY+SUYnJ7/dEPYH7mb89Gx3h3LoscnaDme1u7RLuIih9dqaiP02kcHbe5ru773zKUH6/G7W8tsnVfI2Nkzf312h6JE96c9Xvx8ZIdAPjHqEb1EqnD/M0HbNcniDv2KgtJ102dnWp0rGN5OdDopGDe4mE1ZBVFidvghX2eU7Gr+QW8t0+yrdHZvHkz1+uqoqICP/30k5RKpYLi4mIUFxejvLwchYWF8fdFjdYsxQEXZ9tu76/3WorVR7Bcy4Gp/duLwak/utI/Ev3SGHQsva4scBtHx8yeQ8Y5v1ERqsBdlXR0lfi7UUGerrDYf05ypOn5Ze2xz6ltCrmfswsqW0Ov1hs75VrH0XE/t2zddxTDnp2JX/Q3TqHgpi28Chgo8nX9/OuXDKEfX3plu4LY+K6BIjW0h5eYdb2fDhxF2dEqzXsi9QyMoPPxxx/HX0+dOlUjHNTU1GD69Ok44YQT5NbOB1gtu+kDEhAIvDxHN6sbz0bHPBaNc0z7p8Pfr9dImdU9DI4KVsciPA0ckBBQstx6XZlgK1qvrvLLtx/Eyp3laNs4ludH/7hzBDQ6p7bVCiHqHf42c4N4xSzYc7iCOxa/WrkbJ55TP/kDj7CV1NPiuXBOp23z91kbUFWj4F/fbzGuhxuNjgdlAmILp37+9WqasHoM+t+q13ZElVqNbY398R1EDdBdkxcnvcerpb7qvN8uU1kgLOhccsklAGI7iTFjxmg+y83NRceOHfHMM89IqZSfiKaA8LuTmdWNpzo0FXRs/Bb9lV4svnr3crP6ydj5myFjsGm0BZznlptjXn6Oyzg6ZrOxm2i9P3vxWwDALWfzj6xzBFJXJGnrPBhWEfANsid8sRq/OSc5ga1IHdo04idxNMNWUk+Lz3laW7uIdGuR8V0TVfj1Mfi9qfAW0tsW6e9p1u+37juKu95ZjFvO7oSRPVq6qscBnXZD3w8VRUlobG22y8RZ8jYDdjDrNlv3H016z6lGR6ayQNhGJxqNIhqNon379igtLY3/HY1GUVFRgTVr1uBnP/uZnFr5iNYY2fg6yyMeSfUxuqfZ/fVHP7EvGF/vRlYxm7RE+6i+DL0xsr5+7IQgU87iLV4y5mSN8MwpL+n4phZ1kLt1LxetmxVGt1+96xD3/USuK+PDRkVRHEeOFiUSse6Lohsclfwc2+aNNtva/FrRWCWHjlcZfiZSAu+ZHzxWhb/P3IDtZcewZd8RnPLQVDz+xWqh75q9LxPz427z+fne95ZgwZYD+M2/FsiuVpK2XVGca2wnz98mrV5eIiLA8TYBMruJ7dG6adMmNGvWTGIVgoUs93Kvdy0KgONVNXjtm41JyQ15uytzY2Qb9xVQOdpFv+NPttFJfF4TVfDR4h1S76/SoE6ygnPbgaNYsMVdcEyrKnZqVs/0c5GAgTvKjuGHjclOAnbq9tLX6/DaNxsNrzXqJ0YLZsK93Fjr5pU3jHb8RWxmL7e+xix7utHX7SgfreYPUY3OC18ZZ3sWaRNePe57fymemLIal5bMwbPT1uJoZQ1Xu7Bo2wFumanQhlsZH5u1r97GxAy7Gge9tl1B+IyRzX4zzx5QSNAxOLqShbCgM3fuXHz66aea9/75z3/ihBNOQIsWLXDLLbegosJddt8goPW6cmfX8s26PZi2creEWvF58et1ePSzVRj2zCzN+zyNjt1juPmb92Pc/5ZpdoSKoiTlF5LhSaJfCJO9rhKvfzqgVY16bcR2zlMzcfnf52Ldbr7WQgyxPmWEyEQ4+PGvcdUr32PRVs7iYnJLtf1Ky4/j6S/X4tHPVqGy2sAbyeD+RhNf3BjZwr3cblRiEdhuEdPo8CvJ8zoSqUONyW8y/I6dXFcWl7ILplmf4qUliJchsErz6vztur0AgNJDFaZaoTnr+YJ3KjQ6SU1i455e2lbqy44qCS2Px6fwviEy5fH2DTL7ibCg8/DDD2PFikRStGXLluFXv/oVhg8fjvvuuw+ffPIJJkyYIK9mPsF6tpi1s9XDq1EUXPePebj5nz9in43kg6IoioIFW/g7JrsanR2cyfCKiXPx33lb8dDHK+Pv/ePbTXFPFpVrX/sBawyOLkRtW/QLYXJk5MTn+sk5VbugZdsPOv4uW0Xec7DSlCQ0OkblJwrQ94mHPl6BCV+sMqyb2n4VjHBj1KZWQq3+2RgZI+vbg+d+P/zkFqb3skK/QBt1xeNVyR6kIn1K70kmgoxjQhX2CMRMgDLffVtjJZw5sV9zu1P/Rf92AvfQ/a2bzf1yYuB5rXrpbOAFdqNyi4wnntZX5jG2sKCzePFiDBs2LP7322+/jYEDB+LVV1/F2LFj8de//hXvvPOOtIr5BbsDMrfRMX8I7HMrOyauCjVDs/NVjHdkeo0IYNzZFEXB2HeWGN5zze7y+OtHP0teMKMKcOMb87jfFR0O+oVQr5FiJwD9b0tVbBJXdkya1w40OvEdH1/SYY/yWErLj2PSd5uTDCJZZq7Zk/SecV/hl6G+r++OYsbI2s+W/uRcoDQq16wfHq+KtSkbtM8rd1h7xsjJ114x8TtUVMcEM3YzY1auXhCxK2RwBboI96UwbjcnhbVpen59prGXr1EgSll1kIXCaHTs1slDxZNURIYK77eLedeJtZmwoHPgwAEUFRXF/541axZGjRoV/7t///7Yti0cxlFmvK0x8HJ+dKW4PK6wwswiPZsXMNCgt1kFPlNlkOUmGo0dTFZgFtHNXpKNjsnRFc+YTxZmu1NXbrYK/7VofbIsNDrfG9jmiAQY/Hb9Xs09zOpoKADV/p+s0bGOjKwo2iX9tv/EcuVVOjgaMsPo2aoanU+WsMKiwA7U4GGYBeBzm9Rz/uYD8ajBmkSoJkce+l/d99Gv8PmynbVlWA9QmV6NQ7s1B5AqY2SdoKP73D/tiU6zxHisBVmjc7SyGpv2HgFgPq/zBHQxGx1OWUICkvU1gA1Bp6ioCJs2bQIAVFZWYuHChTj99NPjnx86dAi5ucl5Y8KMGwNeq+MKt0QVxVCjw8oJ6iVGdhIHLbRNqoD0d5uujEdMQuTr0dctN9v46MqvPGtuhFWtR4994hodgzpoAt8xl4jYYJzUskHttYn37Gp04vfTzSa5cY2O7uhK95rXtm4XWK0nl/HuV9WQGH3XCN6i9LeZ69HjwalYsq2M+x07AR+N+ps6XnMENTp69h+pjAuTIvDmjUPHmbFtYzjWzYslULWzabj/g2XJb4rs9PV/6+5pftzn3RyTfKSWmKPtaqdTOReOeuEbDH16pmHfVuHZ9/H7vfa92WuTNcsi2m/RviQs6FxwwQW477778M0332DcuHEoKCjAWWedFf986dKlOPHE5JgUYUQdFG/M2WR4jVUDi6aScEqNmaDDrDhuXZPV3yHqzgoAk+dvRY/xU7F292Hri5G8qOltjDRt6VMkZLNnWH68CnM37DNcyDQLO+cSq9+kariMyjd6X8QxR80jxp67G2kIzI4/Y/fja3RMjZEN6m6VmsAKfZsadd+Dx6rwzTrtJCvSw3hHOk9OWYPKmijGf7yC8w1nxsj6mFJlR6vw+bKd+JHRxHqR7FXFzGMOELfXOK19IzSsTaBqZz5864etxvc20yzoqq2/ZVCOrqIK43Vl8zmmcs+3ZV/MCeSzZTtNnzjvF4j8rG0HnMXfkS7oPPLII8jJycE555yDV199Fa+++iry8hLxP15//XWMGDFCtLhAU1EdxT++3YT/zjM+irNqXvbhylJJarREUcWwo7MLnPraaMKy0lSou4zFBq6iPP74PmcXZnYPS/dy6zIOV1QbeguJYjaAzepw1cvf4+pXv8db8/iTsnYwKjh0vArfrttrbehZ+7+6INnNdSWy41NtVEQ0Olbv6++nCmhmvzOq8MeSkXAkGqhPf1xo1BJ/fH8ZrvuH1sbMKxsdJ8EZ9TGWnp22Frf9ZyE21h4jAOYLpFkfEFkozY4d9WUcOFJpeN24C06O18VpKhMrft63bfy1lXu5qUZHaq20JNsKsTZ49trFzuZTFlZzLO83iPR7feJm0e+tNXCE0SMs6DRr1gyzZ8/GgQMHcODAAVx66aWaz999912MHz9etLhAc+h4NR75dKXpNZZHGZqjK/kDW6/ReWPOJmwvO4a/zVyvUS2r1xgtHJYCW1TBb/71I7btN3ZTdYt+AddPzpr241T40PEq9Bw/FWc88bUX1QNgrFaes34vVu2MGWy/v9Ag15tu0f3laz/g2n/8gFdNYtaw97Sz4/toyXbLazT3UAVgEUHHYI6rqlY1Otr3VYFVr50RSSJrpNEZ3bs1vxI69KUaLfjrS5O1jiLHlF4LOmr5TQyCSbI4TfYqskxaadbYMvo8Mg1PTU0OHKhep/YPu9Ut1wU9VL+uf6aPXdoz/lrfJnrBZ8OeIzCC58xhhF0PpGQBjPG6sn10lXh9wSnuIjiLUlkTNbdldCjoHOaYOoi0xtWv/mB9ERwEDCwsLER2dnbS+02aNNFoeMIMr9FHdC/S/G317Dw/uooqmoXlz5+sxDWvfo8np6zBXMY4Vb23kceOFYcrajB1hXexgABrewwLOQfLaj119hzyLo5TjUEdWXf7oxXJ9h6Ats5RRYl7Fr37Y0xjyOsfo3q2RNN6sfGUZWGjw7J8e8JLzmzBHlJrGBpfEFgNpE2NTmWNqhXSaXRqj1DNFmJFAfehGmkSuFG/OSTlGLKxHnl1qGHnNE4VdFo0zLe81mwhcbvntxKi9GteyQy+LV9WViTeP+xu/IzGlZ78nOxEkEp9/+HccuMe/tF6Xrb9qNdOiSqJFBB21wl2vD1zRW/cOuREDOrUNP7ec1f1klJHFrOjRIAvxG40ESpVFm8tS3ovyZ7JxUJqO3t5JnD4eLKg89er++Ck/5sS/9vKrkK/uMkmGk3e0ajnqCzdWzfE4m1lpnYSZugDBHqBVUwSy7QcJrP5h4u2Y3f5cdxydifLoxyzj0V2zWt2H8LxqhrUydVuBIy8roy6Rdei+vj7tX3jf+c49MowuvqD2wZj24FjmLlmT3xB0ByuGXxRe03iL/VYVN98uQJJPfUBAwFg094j8c3GO78ZhCtfnhv/TFRdn/QbbKj5vTLfsDMP2NHSOD0aF2kSt7ZSKtmRSFwzabdMnhbEiNzsLFTV1CRrETnXHq3kC1B5DtJ7iMI7unIaR0f//P54/kkAYhu+o5XVaFY/H4Bx6BAv4G2SHvhwOfJysjCie5FhupsvOYF1fYmMnEnMWFOa9J5+8bJSkOjV89v2H8UvX/seszjW5U6IHV2ZX3Pd6R3QpjaztAw30VPbFuJ8l0nueFjVjT0XthIwV+8qR8f7PsPEWRsQjSq4c/JiTPhiNb7f6DaNg9ig4wUWNIr8a1Tm7nKtcGnpfmrQD4yq3Kd9Y1Phyeg+7PvsJaqw5MgYmfPR0KdnxuNZ6Y8RRDU62m6iYLmN+DxepW+xI+ioC7Xa5nec2xlT7zybe63TgIEFedb7XEsbHUGdUVYkgvzcWH+wa0tnp9urHpsVunvYaXu916dM9LWIGSPHXts9umLHG/ucmzfIR4em9aQkftXTooG5htGoL/7hvaW4xSR3WOOCZI/tZI2Odf2MIEGHw7PT1lpeY2nbojtu+cN7SzFn/T6MeZ0fXE8E9p6xoyvzjnxSqwaMiy+/xnYM2t75zSA8c2UvvH5DPww+san1FwSxmkyPMdFreZ2dnWzPf/4bAMDjX6xGp/s/j7//l8+NowPHyzFpiqqamBHxWiYVBG/C5npVGWl0DO6ld/l3uuMzm9xzdK7f2nAI9mxU1KMro4CBZvVWoJhOYLk6n3V1sbRCH1xz8o9axwLzWCBi2NV22jHCVceE2nZdihqgW8sG2Pz4hTizszbXoNOjK73Q+PxVvZPrYeV1JTh9ZGXFjpaARH8RxU675caFa+No3GbvxcqQJyC0bFjH9HNFYQIG2jZGNv/cSeJZHo99lrBXLT1UYdrfzMb6vE2Jzaa+CJ5wqS/JzfaDBB2H2HMvV7CrPBFUb8aaUte7RhFBpyaqxF3NjQQd0SH9718NRJ3cbNTLz8G5JxUlabjcYJYgEeCH6WcR2bgs234Q36zbw013IUJNVMHI52ZjxHOzsXDrAfz+7UXo+sAXSdfxnqvmyIf5S+0jVj1BnXeN+pzRrpp3df+OjQEw6Rmiah2YegmsQxpBp9rARkcwqafZUMjJjqA5s4sUTbhoNbz+8+uBeP/WQY6+q6LvS1YLi53TY3VM/FC7OLAOBjef3UlzrVNjZPbIeNlDI3BJnzbJ19jwujIjKxKJt09FlbwYSXrysg0M4HnlGIw8Nkq2FVbrgL4e7y3QOizkZEWcH11ZzN4y4uys230Ir36zSfPeToMAsXZQtVdqnyjl2FcmR7d2vmZmrKBTUlKC7t27o3///pbXXjOwffKbFm3OPqSognhUSQC48Y35eP6rdfhyxS7h+uqp4biXv3/rIDRiVIDfrd9naSchOhbO7KLdRcp0bbQa4Mc1R1fJiA7o6/4xD4Mfd+aZVR1V4hGgL/vbd4ZpF3j1M/IaE7UPV4VVfTuVlh/H/R8si3t9Jd2X066TbxmkKTNuo2NXo8Nc89OB2IKvDxholNRTHybBjNzsCL5kjmxE1fGKwWuVwSc2Q98OTQy+a39CVRTFevPjQKOjwh6JFtbVqvmduperDgrXDGyPBnX4wV6ttK2HOPaMPArr5iYEHU6QRjMMm5Xz01T7GjNPP7Ny9cl7p6/ajZ0Hj+G9BT9x56mdB803TuwmjZfz8OazOjlPAZEC73KvUuyobak/YmRJOrpycb+MFXSKi4uxcuVKzJ8/P/7eqJ7J9idfjT0bf7n0lKT3rSZDjT0DZ4C8MH0dbvnXAny02J47cLxMRUG5bpLp26EJLjo14X574xkd47tqo52Z08Fidoxtt0xe3VjPh+OV7NEV51rOTrqO4BEHi9kOSdRrjbvoGAgRRjsU1SNKRW0K/c797neX4K0ftmKlgaDDQ9096o+VNMeiDt2r9cKvmDGy+QTWtF4+GtfLw81nnYDBJzbF2V2bm1ydwGz3V5CX0EaWXHMa57tCt9BwtLLGUvthyxhZ12bXD+oQf112VBuvxulipAox9fKMtbNWR1efLt1peZ8WDfLRulFdRtCxa6Nj/+iqstpYuDYr97znZmv+/tWbP2LQhK9xz7tL8NLX65Ou79ayoWl9jlXVxPsiLwp943p5lilejDCy0ZHJ+I/4wS/d8vu3Fxt+pv4Wq1hIdshYQYfH6F7JMTqa1uMbX1l1SnZ+MNvIseeWVrAPuiaqoF3jRPC0s2o1LuyG94Tm9RgXXwONjsDhFc/d0kyjI2PMsccA8zYbn+0C/DP1e0eeJKEWCUSPB+Zy8k5pj6vAfQ0AYwZ1wBs39Mdfr+6jed8ojs6qnfxgWcdqBUN9W7ECVHaSjY61AMbCE+iSAwbW7q5NAwYqhvc7p2tzNK51sf/Thd3x1s2nC7v+srfcq1OLs942F57aKum7TubT/SbB8lR4AsmirQe416ptpgpl9RjD4T7tG2uvrXa2AvxvUWyTxdqa/ffm0zHghCZoVRizLanS2Qo54bUx/QAkbHTsCjr6O6tjUZ/3DjC20REp97vavG9GfLUq2TOofr75EX5USbTh5n18N2urFC8rd5QnxRLS40XwwPLjVfGjU0A8WKdb1F8iU5lEgg4DT83biGMNDljv8Gt0C0fXouTIjwDQrkmBjRom2Hu4Av9hYhq8en1sMmFVyU0K8uICg5Erpf4nD+2WvGOe/8DwpPeyTI4QZAw6vZZGv4tl4Q2IX/KOG2sx8vow2zmK2hW8yNn1aQRUTrA89a3srCwMPalFPFS+ilEcHaNmfuO7TZryVR64sHv8da7eRkcjRPPLZeEJfnN0C4WqNaqsjuryfYkJVXqjW8DO0VWi3Ec/MzdEP0t3LOvEFuDJqWvir//9q4EAEu6+Kjzh8NK/fcctT9XoqH2VHQ8N62i9pcyOgsxaS4079ebcLfH3Bp3YFO/8ZhC6t2oYr8f+I5Xo9+g0/OE9+67K919wEk5t2wgAXHhdadtt0nebAfAF0lzDo6vka/XvPT99nWk9NnDi7ogcm5cfr8LfZ27AP77dxP3cLCDo3A37cMFfv8G5T89M+ozdvAp7I9pAb4P2KBOQ0Q16oe2GwR01f6vzXfLRFdnoSOOH+4fh1iEnYvjJLfDwxT00HZl1rZ69zlz617viqnmfnrz8VKx8eCSuHhBbiJ2mLWCzrF/Zr23cOPhIZULQycnOQttaQWrb/uQYO0DyQC3IT3Y51dsEAPzdlIqVoHNZnzaYdhffVVZFb9ipel6JrEEvXt0HdXKzsfqR87kuubzd0c6Dx7hxiFQ+dHjECBjbpOjnNaNmsxtHZ//hmFCov7oes/tUbXR4v1nkqIB3jb5+9Zi+pNrxJJdjrEFpWDe5LwoL0UyhpYfMjSdfvLqPZrJ1spOcsTphwHpml2bY/PiFuLyv1rjXjlKkukZBNKrEBUpW0IlEIhpNlKmGxOH6Fz/yjir477ytOHC0Cu/8aBD524C1j47CLWcn8h86tdFhx8xfGWGEZ5tmbIzMa3zte6x2feK1yUeaRptFK575cg2emLIac9Zrtb2/qTUqNzNGnlprx7n3cPJGTxVGAW8SfB5kDP+b1c9DnZxk7ZXdTUE0qqCUCZ9xRd+2aFmo9UxTf0qyMbKtW2kgQYchEgGKGtbBH88/Ca+N6Y/rB3XUfP7wJT3ir6fpAhyZZce99h+J6Lk92xSiIC8HdWsFk7kb9mHqil2YyYndYwarwmcn/2M6zUOnZvUAQJMbhyVpeNRWu6g2ImsXTg4SQLuz1o8xqzGXn5uNLkUNTK/Ra3RUjQpvwtIPCFXtXic3G91aNsADF56s+XzwhK81z6smqmDQhK+5EbFVqnSLyaltC7nXjexRlPQeWzsRGx09cbsD3eRtNbUlRwdOfIO1AdELwXbdy1WGn6z97fUZQYc1ymRzyJnt0upy4rw4MUbWLwIDOmqNkBsV5OGh0T3Qq/aZOjmmGTM4ZkNzDmND1KJBHdwxrEv8bzvlVkUV/PH9pfG/9eOh5JrTcEqbWH3tCg6A9pkPPCHZKFs9dqyuiTrW0OrrnOfQRofVZLKhP/50wclJ1xrF0bHjXn5Km0Kc0Iw/7zlBnzOxeOiJ+PKus/GHWo2fevLOO7oya/pYQEDg6gHthOphVyiZsSYR8+2zO85Cn/aNkq6xG4i2RlHiRtmdmtXDU1f0ikeAV1HNKSSeXFFkZDu0aMCPifD01DVJCR2NJrWTW8UW+O82xDRCczfui9t1PH1FL1x+WhtD6ZxdFFhjW/YY4VildrHuqAo6e46gqiaaFK9Afyt1kaufn4PdqMAjl/DVlez39LW1mhjVj+vmZmti5LDo62m2m9I3td71va7O2LKyJoqK6mj8OpEF6Ejt/ft1aIx3fzsIkUgEf3hvSdIut4gTNyOqEaoS7yucz3mo9TyuawOjZlZL0xfLasnYCep4VU3cfgKw716u0rxBctTToob52F1eoVl4WA/EqGK84NThGJmLxnJjy2RlowtOaYlHLub3abs5h9g4Ompz6JMTjj2vKw4ercSbc7fYEnSqa6J4d0nCs49nm1TH4VEQAKwrTdh3PX1Fr6TP4/G3aqwDk/J46KLuSe+pR7L7ONoJM+IG87rnwtssqeNUn2CU1/JGj0Pvvi8bvf2g0+zlaj81ijacdH1UsZXHa+KsRDoPdV7Ly87SbLgqqmtsRZKuiSrYV/tsmtaP1bu+7hQhKwtATXJ7kEZHEk6Vfy/NWJ9kjGgY86R2deLl/7jn3SWYLhjDgRUE2EGtFwhaMQvvU4wdQbw+ul+tVlsVnoyCZ7FHV3rBzGpiVD9Wvdya1EseqPrAcP/+YYumfiz6tu6qmwDzOSpXp8aV1VEl/nsHn5hsQ8J77kau2+prdXfdqpAvSKuC2vEqvUbHQCCO30JbF3ZCZM/3K6qj3Pg+Zqjtxy7ANww+Iem6HAPXeO29+J91aFov6T3hFBBMmWw73TD4BDStz3cwsBu4TbW5+HbdXvx9ZmxRWM6JjB0PD2BjptbvlHnjUF1g9P1CBFbg5tkJJgzJo448eni/tFWtMev2smO20kCozcYKy/rcgypLtpUBAB76RJuUme9erhX2VXq3bcStXxEn75jdxfeV6/omvaceS63ZzXcuMEKto6iBvtM0QGMYjz+9VtmukF0TVXCg1t5SnY+6ttTO17nxsBQix49ikKDjEVYL6cBO/BgerIeRGWwHY49c9MH1WKPhSXM2J5WjF0rURU51Pc3WB0epRXN0pfvM6rxYXaweuaQn7hjWBZNvOT3pGv3g/WZdTI3KPWnXzTZGKnMWq/ggRiyunUiBZE0RYPTcFe7n6oKqBpNs25hvmK5qYo5Xi2p0YuWyVfk9c4QCAB0ZIeJwRbWhwbQRqiCcn5uF7+47FzPvGYJuLZN32PrAhEl1NbkVrzzhoyumXLadzL6ebVOjo2p42aPp1buSFyu1DewI10d1mlnemMozONK0Uz6bBJKFTY7p5OiKtwA2ZwTMdbv5CTV5qO3G/s7WNj2ArCx07v/fsvjrxvVy0aN1stv47vIKV0Hr2jWpixGcFDrqnPIGZ342g2eorofV1jnpJ1bl2y2zRlHiuSQb1BrVn9hcqwVVDcqdBsLkQYIOg4hB1x3ndgYAdGqevNtk4T2kLxkDXJ66GAAqLKIAq7CLHlttntSunmXXzctO3q3qfrL6aTzXkMHKkOXCRkf9vF5+Dsae15WrgtYPrgt6xowvRQN/sfAi1rLtZ2enoEYWBrQuvyo8AYqtHxvzRn1/v06Vq0cVqI7pj64s6qqW37ReHu46r6vmM3YXH9PosN+zbo9dtcETm9fGSFGPSPVY5emKRvkpIJob5NQRXXRZrRT7HTNvQbWut7+1CIcs3HmB5HhHQLKdEluuHeGaTTVilF9ItaGYuyE5pIGKkdZP7Uv1DNyj42EpaqKODF3rcZwa2DF9wV+/ES5LFTxZ4emq/mJ2KSqWcwSjQa6fn2P4mz9f5jzI68vX9uO+37NNTKjqxpkHzcJ/qHO9mUbn8tMSBvGiWjRFUXD/BwnBb3Sv5IjZKrY96KJK3DO4AdNHWNd11ltTWy9bt9JAgo5NOtd2xiIDex0VnvqfPVLh2XIAQKXJZMgWyS56dRmblGev7IU6uVmaM/IbzugIIBawal2pbielu52iKEIJQNn1Qj8YrXbdItNmXZ2djWr7YHXWztUOcQSdl2dtFKhFMvczBpAtOKps3oLOvrPnEGvXEftE9ZLiHeEBiHs7HNcNfENbLkVbvtF1qnGhXgsoMh++U5s76rBFZFx9Ti09Rl5X/7t1ML88QRsDjUaHed/MW5Dtt+8zofqNjNR56ShW7Eg+ukp4zYkvCuwzm3XvUNNrP19mHLTP6OeqR9w8g29A63VVzgl0Z8UV/dpaXqO3ozGi5Ov1OHi0SrPwndwqWeMCJEISnJMUWNJ8A6KO23tGdI23/UvX9EGd3Cy8zBw3vfqNft4QX307NOVrbC/tE2sr/RGOFSIanUgkEtfOiQo6b83bireY0CWnGDhesHUQpSaqoOxY7Lk3ZLx5P7htMB65pCeW/3lk3CxDryxwo98hQYdBZAoVdfV1agMi2nFY7yq2o/fr2ATLHxqJG85I2EvkZmfhjM4xFbX+aExfS0UBjjILn16tqGK2YFi1o8gOsbFu0efFe1FRF/SOTQswkKOK52l0pjLpN+zsFHrVxgQBYoKr3qOLFxzPKL9WVIkZ8x2qXUj13gcqcRsdm+6tah802vCpAtT2A8c0WhwRG52Paw1leTlqWPSpJvQYadPaNuYfTZj1OyO0R1diYRHY8bV4axn3+vEfJ0eN1cdAAtjgjOIdTRWIm9XP4x6RAsAztVphvU2aCOrRVYFBzrpcxuvqBYv4Mjx4dnF6zLwcWaavLsUf318anxv1xqssg2vnOb0WjOt1xfQ9tb1ZTeLPTm2N5Q+NxEjmuKm9w7hnfTs05mq5gIRROS+nn1l3V4+NrLKtJ56lWP/70wfL4695ATVZnHjQ/bj5AADtM2rRsA6uO70D6ufn2ErjIQoJOjZRBR2rRJR2LehVrEKuq7A5VvQdPYfT8dXJUL/o6vtOVFHiAy4SMU6lYHZ0JSNgIJvKArBKI6AaTvPryktAajevjIr+6OPXZ3XSnOfzdu1GAeuiiqKJbsxbJAFmIhR0I1YnBDVekFG56mN6+NOVmkR9Vn2X7UMXcaKJs/A2BqyKXlH4i5CRMGx29MSitdFhj66Mv8NqdNj+Yac7845U1DZw0ud48VNUVI2iHcNeFTV9jJEQFZ/ndIuj03mNx02T5gvXffa6Pfjr1zGBy0yDkWcQGZlba+bN0rhgqRWQ1LlUFXAGcFzxRdBHO2ep4zBitIhGBzB2uTeCDaCp3+j2btdI87dVwmU9NVElbsdmVO9E3xN4hoKQoGMTUelYb9DI26334qgERTVBrNpcxL1PPQqy6pib9h7Bc7WxKurkZBsuOFqvK+1nosbIZgzp1hxv3jQA/TrEbGISu2Hu1oxbDxVe6HInLrnv/Zaf7frPoxPxlezYYSgK8JfPE0KQ0SKuCmp6Gx2zRTsaVXD9P+YB4Ad8BLQ7qj+8l4jZUh2NHV++/u0mrNyhDcqmKApe+Cqxw79nhNb2Rw/PGJnV1thd/EU1Ouxunc0xZHasyvZLdkE3uyU7Xl/4RW9cyskAbqXVckqOgXcKi1HVX5kdO4LR96l42fHjA23Zbg1E2Zg960oPGybH1RNVFPxvYSxop1m6DXUu1BvJ8jXBideqoN+qkK9JNDrmteq+mx+/EJsfv9A0fUIdk7nZrLdXxTU65mPCKFDjroPHcYSjVevSIrER0X/nzZsG4I0b++Ok2mO2Q4JaOZUvGBun0w0N4dV+rTu6IhsdOYjMoTmC5516gYW3iPEEFCe7PqP4PixGOWD0Rweb9x2NB7gyinEDmLeVpXu5QDtHIhGc07V53GiWl2VbRW1qIwGKZ8y5j5ksRZq8Z5uG6NeRv5vr17FJPICgnYVAgSKU6yw+EeomnW37+UdiCmLeP2pdjNqbVdNvZ7Q0NVEFk3/choc/XZlkNKoo2jN7ngs4C88+Re9ib8cY3IlGR/N9UxudxGt2o2JmEMqOkZE9WnLrZzeytSh5OdZHYlZjbYFBrq1cAwNqEY1zSwP7QwB462atDR2b2uW1bzbiQgMjZdG2i3ui6Q1ZeTY6te+t3lUeF57aNeELJE61LiKoGltRRxQV9TfyjuZZEuEpEuXvKDuG0ydMR79Hv0q6nh2res16Yd1cDO3WIr55Es1er/LwpzG3/6wI0M7AyzSexkNiW5OgY5NEkkzzgacXWHjeSyO6J7saOpkMi4eeaHkN6y7KYrbIm51Ha409tb/NMmCg6adasnVHhXxjZHOjWxnh0Sdemxz/gmVMbRTtr1eXGu6S9Yg+anWSPVYp6jWh3dHO38xfzIw0gVU10SRNjkqNouCBD2Nn+CcJGE/y7FPY12YBA83Ks8KoSLN75TAqsneYFCtm3ae0PHHkZ7TgOLHRUbnGJGdbXKPjYkEwylyeY7CrFonF8sdR3Qw/0z+/Rz9bFY+U++hnq7DCoN+JxoAxir5sFhn5/OcTwlUDi+Nj0bFtB9WeyW48pCpBGx1Vm8/GWPthU8xTj7eZVetxw+CO6NmGb4istpOVM4IRUcV401JXbWt93UijIwc7Gh2j3FEqeoXP+It6JF1z4xkd8fxVvU2/Z8VtQ040HJws2QYCmlnfMUpoCmgl+WQbHfO62JE7VMHvh40xzYeZMbJZsQ/+LDlSq4qIRsEqKBfrDfTElNWW5QHi2jt1Rya641OgaHbKrEs8i9EEWR1VDMMKsMbHvJgxer6vfW6LGINedrFgDQxVYfzu84yPw0SProza1kwTy068Ow4ej9uFmQnu7NGjkUDtJI6OykOceUNfrll2eDNtFAAUGHhdqc9iV7lWayjikWl1z+tO76D5e+w7SyzLFCXXSKNjfOItRB2OVsRuGYZl5yaOlg5XVGPR1gNChrdLfop5+FmZLvDCU5g9I1VzbOQQACQSy4qEYbCLGrZDH0uKAgamEDXRWUV1FEt/KjPskPpJzSifzCV92sQzjwP2LctFw28nNDraCWATJyOvCi+Jm8r8LYkjF/2QsbTRsRFT/oNFsXP5WWtjMUMOVyQPLLXFzGxWbjrzBKx+5Hzh+yZhUWVWG7B6F39Xqkf0UasT4aGKavx04Cge/XQlfjpgLGgritYu5dFLTuFeZyToVNVENc9o8ImJs3QnGawBaDI3swtzNJp4fv06NMHqR87H73TBDVn07uVqJGJFUVAyYz2mLN9Z+zf/+2aB5vSPWD2+MuuuXwlEMk9odOxrXpwY3rJYueMXGGh01PvqE1GKaFasxrdeq/P9RuM4QHYx9NjhupfH3ju71hW9k0EsKIAN8SCu0fn7L08Tui5hoxPFlRPn4tK/fRf3ajSaStUAqoC1Rkd9xmamCCyqMMdz4lBR5/jvTGI4OUVNLH2kwp49lBkk6DBY7UQAoIxZQEa/NMcwqzUr6FzZr22SuzQLa5RsFpWVJwR9tWo358pkeOrz0vLjSaHSWfRpGFjUAH48rDbd+hg5dnh66tqk95T4gmR+Y6OBKzKArK5hJ29Vi2GHy08zjjtSkJvYdZ/5xAy89u0mXP/6PMPrFSSM1c/rXsSNMAwYH7VU1yiascB68bEB8d41MM5m6VgbO4TNDs7aAFRFo/HnF/PyM+8b+kld7f8Lt5bhqalr8Nt/L6z9JPmBndCsnmGsIiDhMp+op7mNkyiqFmrqit34UTDyuVC5tX2OF89H5T9MPBQeBQYuz0YaTBEvKSutm17QcbOA6bFjjByPN1X7nH83rLNhuQmHAHFhVUTTDmiNhdWAou/VxnEy2jR+u35v/LWRs4FKXY4zg9kjUu2VzMbi+wtj9VM3oDKpXxvEUm8oTV5XKeT8nlq7msnMWT6LKrDk52ThyZ/3Mi2Tnbztuoou3y6mPcjheItZHT2YxcLoUpRwO9Qfh1nZUbgRdPT5YBoV5MaTUMqwxTHCKAaGit7zwa5mzszOihe9lpcrLXFvxPPJGEUYBox3gserawzTJkxbmRCs+xsYZ7MMqxWM2EmT7YOqJw0gLlB88fuz4q9VwYX1xJk4a4PGXV6lbwf+EZ4RCWNud/2KHQ9jTARUu7B2KB8u2o5Ploh5MLHcOZyvPTPSJFVHFY2Gj4eVwlZ/LOo01AOPfIOjKx6qIHtEjSlkcIwHJOxG9Bods6obue7ryecYOidiYGnb6tkv1+DKl+dqhBaj4ImJeqhHQWIaHdWmz06yTruY2X+qz+FIpb6tnfcTyl7OIjCf6TMqG2mjozZ2g6x62a5B2rWnGxsrau7BUZ9b1c0ohg6g1QZUVMd25eqCYPWT3bio6gd+2dEqIRsdHhv3HEan5vUtdwpZEfMgZUCy8HasqsZ04tTT0GRXxouLZIW6y29kUq6RoHO0okbTlqymTFVVDzuphVA91Ml18vytuG9ULGuzW++jk1s1RIP8HByqqMaDH61AJBJBO8ae4PEv+DZSdvtHTY2zfqVny77EMaN+8jaD1YLxYAXGOycvBhA7Im9R6/XE2mkZYRQQ1FDQqYmaelUB1kdX+s+ro4pw8EAA+OYPQw0/i2t0BGx01HlD1RyYjXFVUBexk/v9sC4oPVSB02pd0q1Q51lWEFGfrV4o/OvX6wFAyFtTxdC4lwOrRVFzUfH4y6WnaNJE2OWD2/iRz4GEgbzeRscNpNFhqBE4f87OimgEBKPdSFztLTBNsgvOgi0HbAVhOo/jucUjx4Hnh5nqUj8RsrsRq4nuv/PM1eksV+pCyfOMZJfWGuXZMP0BAJz7zCyh63hZyvXoBZXyY/YGaeMC4yMVAOjSgr8g8VHiKmUztbaRwXGNolhGExZNxaA+6wPM8Ype0FGHkMhYUWEjYP/fh8st7RQA66NNfZRrWRqdT5aKa1rq5mbj5ev64sWr++Ch0caGyADfWYANMHjLvxaIV1KHUXvuO1JpLchYHV1xPv8jE8fJCl62dRXDGCyc7YzaDVVbECN7JYA5uhKYm+86rysmXHaKcL/hac7VDalVW1ppcwBGSGPnaINyWS1/8/rG2mA1JY/erunG2nRDPNTcVnVzs9HUpOw6cUFHnuE3CToMIp04EokIZXq2c76vFyjYENwsvFtZeQOpZHGMx6wWFrP4DN1bad0OWVWq0QKq8ttzrN3hVe4cnvDAqaqJco/F1AjAIq7HvAilVipRkXL1bpis0fTP+1rn/bE87hNUg6uoR1Zmv8wo2FdNVNFM0rw+LCJYGGEkbNuRJ/SLkkh9vtu41/Rz/TGfOoZFBGg12S8PXhBBFf34zc6KYGSPlpYRpwH+gs8efdvZ9SfVy2DsP/rZSkdpOFh4ff0zk3xddlDrvb3sGAb+5SvMXBMzFufb6CjxawFzjU7CyFkvpLs/duPZQhodXem5SiCnWNwGqErMRkfF1BC+9rONe49gSW32dcA4jQ0A/OnCk/H7YV3wye/OML8vk36EhYyRJSFqlc5i1PiqMZxo3A82CZ1q6CWCGjTMio9qz+9Zla5VZzfbTbQsrIOpdyaysbNn11a7EDPvBj3sgnbFxLlcAz816aDIUZGVfQEP0WfIUlmd6BhWx14imHnA6VGUxCLXtchYE6TGL9ETjSqWuhVRQeeqfskpEViNTuvCOo7cRvVGvSIaJqMAiyr6flsl4F6u8osBxkfIPzvVWGjRZ6x30NU0mDkz6GlVaHwElW/wfJdvL7ecn4xiMKk4GU+isILe7vIK3PDGfAB8gX/bgaP459zN8b/N7PCMAq7KgLdZrRYUdPIE5gWeDZDRJpc9oTjBZJ5mbRLveHuRZR2AmNb7rvO6onMLvnOESiLNkrVWThQSdFxiJNGrGg7RyJHbDRI/WpGXLbYAntU5+fjFarr5zw9bTD9nvXmWbDsYf2216NiZ6FhNxuJtZVi1M3kSVduYZ7SbdG/OoqV/gmPP64pLeicWJycTMzshyjC2rGNDo8NqavQumixGxuYii6Wot8XdIxMaOXWHxtqJ6b1jRNmhMza20iKKoBdo7NgS6XMksZhpRvVNbSf0Ag87db5ruHG8olyTOlsdf8sc/3rGmsRYAoCerfkB7njz9F8+X40HP0okZq1nslEyygAuw4w6KyuSJOyogROt+rWIwXAe49VlhWo20aVFfdPNDFtf1gbNbOoQzYGYY6DRyeiAgdu2bcOQIUPQvXt3nHrqqXj33XcdlzVS0N6Fxajtv15tHV+Dxaknkqhl/Dndmie/adHvLjjFPHMtywMfJgzTcswC2kDcvgMwXoybMTthdWEXyZicLXDv1o3q4jLG3VtUVf/6DYl4SOyEaLX4fH7HWaafA8lG8GZMWb7L+iJYHLta/GSzfEMsbELR47U7SrY9KqujUt2L3TD0JO0YsUqhwWI2Ds2EF/0u1e2xkKig89ilPXElJwGpiuiROA8zWxe3GIVKUMnKinCPT9RWMQuCZ7ZRimt0qr3prHphWF0PrDU61s8pkbYoUXejbqY6w1h5mervK5LsVVS+NYziL/Z1/r1dfDcQ5OTk4Pnnn8fKlSvx5Zdf4s4778SRI8aut0YM6NgEhSaRgFnYh2w0SXdqLn48A4hNDrxbiQcMTFyn2rRY2eiM7CEu+JUzmiurwZltIQiJwApTqvZMZHLmanQ4DcsKYyLCEQCce1JR3EivUqPRMf9e99bWBoVz1pvbl7Cwi93ATsYu4EZRbmuiimXfuPBUMSGYfSaqjQCrEaiJKgljZBuLPBvPBxBLp2GWQRqIHX2ywTtFhYZfmqRpALRCuRVuNTqi2cV7tW1k+rkb12KrdnMjy4nUi6dBiwocBZl5N3p5dAUA+bqNrqoFNko0qyIy5+VmJWtIjFohESzQvFy9tkfEyUVYo5PFj4XkhtALOq1atULv3r0BAC1btkSzZs2wf799I7yCfPGmuPmsE+Kvjc4N1cEuGrvj0Ut6Ct+fxSpzrUpjRog7XisYWM2p9U3cC/X0ZBZrK0FHxjEDew/VtipXwF6JO9h0jzAC7UC2s8vO43h9iC4+ZthxS2YxS/hqNDnpva54guCZnKNQHllZkfjiFNfoMG3DnsPb6RV67w4Ro9Aik5hCKud1TwhQ6hGbVdFDu5m72ptpGvVlu9boCKrHjHIYqXgq6Lhw2BdZ2HneonHjXoftq86zIoEInaAXzlRBh91w3fzPHy2/x4OXKsSoGY4JREUGkudwkU2B6P5Wre8OnTlHqI2RZ8+ejYsuugitW7dGJBLBhx9+mHRNSUkJOnbsiDp16mDgwIGYN48fdGvBggWoqalBu3bGKlkj7Bh7stoEozg6R2xoGQCgS5F1gkQeohNSI8Z9We0v7O6RJ3yIGNEOqT0SO51x97USvmQYI2oEndq2FjGQTY7Kyh89ORZtY4Rq21At2UbHC0b2KOK+L2KMbKXaZlEN4HfXJsBkbYgqq6OadBWi6Pu9yERrp86AWNA5QFzjJ1SWJBsdM8GPjcRuhJujq7O6cI7JGdzIciJjnDcnxtN5GLTvFRaekd5rdPSCTux/tj9M55hDiB1dxa7Rhk/ht4OqdbUypdCH06jWJV0edlILvHh1H83cKaqxVV3cN+iCoobaGPnIkSPo1asXSkpKuJ9PnjwZY8eOxfjx47Fw4UL06tULI0eORGmp9qHv378f119/PV555RXT+1VUVKC8vFzzD7CWYFnYzmW0iKlRSr2MLgnYm5D0eWDYbsfrgyLdUo3vwmoHrFSUIrsQK9idjnoUJ9IW+ufx9epS7gBiJ1Q7xwlqNms22aMEhY4n9O3QBI9flpwHqyZqvRjVFzD81nPLP3/keno9/GksDYmdBVDfh0SEkoaCIflVrNInqNjVErCB/PRdw64Q8NkdZ2r+VgWdTXuNj+9FvBOdzluXndbG8ijWjSwn5l2XnAdO3ZAaPasyC2GbdS/fXnZMipZWWz9teaIaKJHnlGsRLJYVilUbHav1UP+5fqNRVFgHF/VqbWtdUFmw5QD3/VBrdEaNGoVHH30Ul156KffzZ599FjfffDNuvPFGdO/eHRMnTkRBQQFef/31+DUVFRW45JJLcN9992HwYOOIiwAwYcIEFBYWxv+p2h87cUrs7PCdThg8+wneg7YjoKmLwVbORMBTJxdZREAF+Dsdq/YxyzfEg6d5YBc21etKJOGgHl6skUhE+9zsPG819QC7GwmqRgfgH2FEFa2NDi+fWt1c+y7zew9XxlNT8LCz/unHlch5frMG9vrdd7V2UVaPT6R/3DMi4S20drdxIl27Gp0eOi8jdcGpMBH8+nMSDOtxqtHpLBDY0s3Rlcg3ece8VhodNrUJD3We23+kEmc8/jWenLoGgDstA8vmffwkvVabLCG7xNoy2AS0bKmsjHJM0EZHj1CyV8HHzvMQBtLYGLmyshILFizA8OHD4+9lZWVh+PDhmDt3LoCYNHrDDTfg3HPPxXXXXWdZ5rhx43Dw4MH4v23bYrmq7AgM7G7fahGzI+isejiRXZudqMqOVmLs5MWYs0FrkDrx2tNs1VvlX3NjbuMaRaauE947sptpBFIVXg4tI6O+rkX18dxVvTTHaCJ0bJps2P3TgWR3fDYmhiiVNXyvH6caHR5mfeRUgWMEALh+UAdXdTCCq+aPKpaaBdH4TXrMhss+QU8uIHmCt5pon7+qt62UHEDiuVstZiLCyXWDOsZfX/ny3PhrGTY6rFbOzFPs09+dibuGdzXNq6Zi5l5uhogQ4+boymmU6oQxMv/z8Rd1N/2+/jh+4qwNjuphREMDe0ir/iCSOoOXYZxtx6hGoyNmowNoXf1FXNdFNTqXGxwjugnOGGhBZ+/evaipqUFRkXZHX1RUhF27Yi60c+bMweTJk/Hhhx+id+/e6N27N5YtM87BkZ+fj4YNG2r+AfZsdNhOb9X2dlSc7KLDpoF4Ysoa/G/R9iTtw/kmGcTNqOC4+er74KieYh5Xh2u1Kf/6fkv8PaPBeXHvNri0j3UkTz03n91J6DonObSMztzZZ+yly+8/bxogVMa1pycLOqLPyAzejrBGkRcwUI+Z0Kim8hBBL6BZ2U4M7mw/UOQvat2vLTU6Ascp+lQcRn3CiVDNClpqO6zgJPvt2aYQvx/eRSgMg1ONjshQcZNSw66mQYU9CuKV0d0ilYIbmyURRFP56BFxdjHTogLa/i1qjAxoI76XzFhveb2oZpuNZyRqJ2dFoAUdEc4880xEo1EsXrw4/u+UU5LtDqyokyfeFDk2NDp2oi2zE9Y/vt0Uf/3TAb5a0ymra4PuRTUeL9rJR3T3++365MBxRsaZTuc3UdsKs0zdLE9efmr8dXVN8n49K6IN4OU2KbpZFxGd9Hl5jZxo8/TwNDrRqGL5o0XbWo+sUzy9oGU1IdpZqC6vjaGkjnOrKu85xI8wbcYPG9VdtrZ0J8pDVtBSNat3v7vEfkEMTo/cRarvZjh1c+i0wR5dtS5MjqVjFgUYMBHsJfVnfQJN9W+r4kU2HLz5k+1nUY6Njkhct9aNEu3433mxkxGz8S0aroE1I2FTC4XaRseMZs2aITs7G7t3a89Pd+/ejZYt3e9mWezs2tkMr1aN71QiZQUdHmZp7q1Qo8qyrqj6CVY0gOHt53ZJek+G+ziLqAt9C8HFlw2UxoudFIloJ5DJ87cJlQvE4jHpMRrg+TlZpkk3WXhu4m6ywKsYHV2ZceMZHdGKs1iIoBpEmuXEEUF/XGRlo2NHA1W3dtOjTypoRLlg9HMWfWRnFVH1vtF3ZHoFiSSM1COm0bFfl4cv7oGF/3eeI23QnkMViaOrSITbF1pY2CM6PcoTRR+sULU7tDquEZlqb+fkYTMKH1Hh0EYnqXzOe6IanbycrPgacrQqMbbczHeBFnTy8vLQt29fTJ8+Pf5eNBrF9OnTMWjQIFdll5SUoHv37ujfvz+AhCQrQjljoW9m9Ac4l0I1eUl0g3vgCU3wxe+to+nqGXZSLN7Hr888AYC24+irKWqc3b9jsupUdi4b3uTGC8joZAI9sXn9pMkkKxLRCABWz5jlT7UZsBswrsxGA/xvvzzNTlWTdrM1RrENann/VusxYuSKa/YIxzD2JnZRNQ684x47z0+fcsFqgbcj6LSsXfTUOB5Wi82Qrubu1Cov/KJ3/LVaZpKNjoOxw44PfX4gFSdDcus++4FXD5ukHFFxMjsMPrGZbScGlXmb9ms0OnYis6vI3rzp4fXPsqOVlhodEcGPHSs8UwpWp23n6MouFtOVBnVtmr854YF1FWPbZhffBZ3Dhw/Hj5wAYNOmTVi8eDG2bo25do4dOxavvvoq3nzzTaxatQq33norjhw5ghtvvNHVfYuLi7Fy5UrMnx9L+tbERvRSO4ugDI8b/Rjr3KK+7ZggAHBirUeEOjbYTq+PmSOqumaPBNTyvJ4UgJiwp6dNI3Etw/CTY0JfNKokBVnLMtj1iaDuzNjJVJbXVcO62mekD5F+tS6xZN8OzrxrPly03dSotMCma/nvhyW0fqpAwksT4kSboWKlORXVCgKJsaBO+lZPT3SssGPM6Lc6EXTYcfwvBwb5RjgJUnlEwDh2jYnXmRF22uXPo3to/o4qSlxDsvdwhaOxbfQdWf6UvDlz4Va+m7Vd2LaLG6uDnZ8S19oxRraLnYSzKnf8d1H8damDI2IV3wWdH3/8EX369EGfPn0AxASbPn364MEHHwQAXHXVVXj66afx4IMPonfv3li8eDGmTJmSZKDslrO7iEV6BXSCjoUNjtvjhc+W7sTMNWIJFK2IZ4WtXSBrdBodJ/IJ2xaJjO38buXGrVSER2xEl1ZdLe/737KknUZWxN7CyKJOiAeOVsU9M4y6gN11/XHGtihWrrbgPu0a2SsQfEHHykTHbjb2AbVCabeiBvHxwGtfOwkp9VhpdOwceajh+FXhyWp+Fl042XLUZ8ezD7MLe8Rk5Lru5Mjnq7FnAwB+c04n/PH8k4S+I2KTKJrA+KVr+sRf29k8jRncUfN3VU0U4/4Xc1DZuOcITmtvbcCrx8uM67Hyk/tQJBKRIkmxY+3Bj5bXFp74nGejIyroqEfQVmlQAHdeU27xXdAZMmQIFEVJ+jdp0qT4Nbfffju2bNmCiooK/PDDDxg4cKD0etix0WF3o4csdjB28tzwKH5roavvs8RdwaPJXlfRqBJX2duB9eBQtVspUOigab1kexyzdAdm6AWGrKyIZmGwYw/FGqo//sVqAMYLuN3F58Tm2hgleiG6c5F1DBM9Rl4+ZnOS3QS0anC/iuqahEZHghfLLxhbKycxlIxQ65swhDQvW1TQOatrYjM1t9YYOfnYVLCSDN1aNog/k34GXjhOhmTnFg2w+fELMW7UycKC/8Gj1lGuf2GSTJSFNaJ1E+JBv2jfM7IrBp+Y8MJ744b+jsvW01gwX6IeniCXm5UlJU4PK6S9XWtvyN5NYfYI8aMrQS3lTbVmEKqAJCuukGx8F3QCg41xZGd9euBC8/gMTnCq4Vd3qP/+PnYsyKoSo4riaNfHToCyXAFF6NuhMe5m4jjYZXSv1vHXekFEv6uewIkebARvwjI6unJzVAMkH13ZFUBUeOHvq00O1O32E1UYrqiOxts6JyuCEd3daWUfZGKfqBGpZaA+l28FE6mKCgHspuB/C7dzr3GqOVBTCPxoFFXWUakJRPvqutJDlteM6tkS//cz63mRjX7tJsSDXhAtyMvBWzefjhd+0Ruf3H4mhp5knqvMDHVoN2+QjzGDOuC/t5zuqBz2uauxtSpraqR4KfKOidkxzAon6tGVqI2maje1/4j2WIn3uAacIB7iYZiLZ8IjYwUdvTGyV4gE3WNhNUAiuyM7TF2xK/66qiaq1egowK9qpXN9ZmgzIozhrlXQKHeBwpL//t2wLqhnI6I1y2WntQEA9GzTMGkyUeec6Xefgzdu6I8zBBNYAvyFykjQMcoeLop+IXbqEsxTU0vVkOSq/SMaF85ys7Piu0GnFOTl4OLeMYH1B06Ea5U/XXCyrXLZo5Vqg4CSLE7jwlRWR3FAN8adCr9lTDmHjifPG26PDUQNeEUMhiORCH515gmYbCEUsBm9RRNC8jDagF3cuw1OEQzYCcC0vk3r5eHPF/fESS3te6oBwMjamFhdi+rHBbPKajljkCc7s2+5sdFR3eBFPBTtGJNf0S+2+VI1lG6OtYEMFnT0xsh27Efc7sTNuIUJjie6oxSFrfbUFbs0C3A0quCGwR3x8e1noOSXfTjfNiY/PjC1id1kom9xdXHpy3HnFkEVSJZvL+caIwOxoyK7u71c3Yy86+BxQ28DUfdlUZzmEOO5uBsJYU7uET+6qmKPriK2bX14nFv7fNREgHq6FTUQDjipwtotVdZEPVPGT/ouOYSEDFsQnoOE20gEXtioDOxkvsNnNWU8rYQZ947sFn8tErVXBKv6uqFNo7pY+H/n4dPfnRXP9bR6V7mUvscTxNm32HVA9ZoT1Q4X1G407cSLE0HVfqqbjnvf08aF6mrzmD5jBR09jW1Imxee6iwisQismlXWAI2Xx7jQHzperTn6qFEUZGVFcGrbRkKRU1lUTYJIviGn6IVLVZV9Ue2z4Lmbm8FO3J8t3aH5zI0cqw+WWFUTNdToHJMs6DgVwH8xINlmgmdEf8Pgjpg7bpjt8tmjq2rm6KqHRfJHEYadXGQqfG3Zb99FmtWMVVUr0oIcAsD9F8SMei84pSUWbilL+tzpMyxgNJv6I00ZpMKTUg87F9o9uioe2jmuma6ojsY9Eq893dpo1g4ybVKa1MvT9L3nv1onte+pHK2s5hrGL9iyH3trk+6KxtFRA8uq3nay6ru79ihazR2oP+q1O05I0KnFzo6lWf18TUwMIzpZRNvkwa4vRipXp95L53RLxPuYtnK3VqPjoofGBR0PbXSSBJ3a53X5aW0x+ZbT8WHxGbbKY3eIT3+51vRe9srVfldRjNtW9i7IaZwRnufVpO82J73XvVVDR/dQBZHqqBIX3nOyshCJRDQh7H9zjj3NCxDzAGMNS/XYiY+lUtQwYeheUVMj1Vukbu3CsGJHOVegdtr12LxDMoMGqoiOCZmelZqx5KDYfGZeUqvfvL4zhwUr3KS1MMNMkNJHUzaDXa+27DuqLbX2j1v+uSDxlmCXV4+41HH2wvR1ABK5CM+y4c3MYuUAYre9SdBxiEhagpeusRcQDgCW/lQWf31c8kL427MTyfy+Xl0Kdj50o9oWFXTcTAX6fq0KOllZEQzs1FQ4TYT++zxkCjqVNTWGbesk8qwZTmNfOIlvYYd8ZneoqsZVm4+TWiaCIN4n6MKsRyQbtx1GMHmHKqvlHl2pmokt+47ii+W7LK4Wh03Z4oWgY7URVJPO3j3CuYOAHjZWmJOjsyOVMS3D1BW7LJN6OsFrd+m2jc3jgtkJOMrOj3p7F/VPdv4W3dCo8932smN46OMV8ffVkChOBcCWhQmBlJcCyW6pJOg4RMTws7sD1Tzr4i3TIBRIzudVo7PRcUqe3kbHg/GfLOi4K89MFe/G8FE/IbOeRiz/GNMvHl9GJqrNilWSQpYih275orBHoQdrEwyqxxK9a2P/dGpWz/Gk+PPTjBPFisT30JOVFYlHtpY9BtWjAdmw4+G1bzfh0j5tpJZvNd89fHFPrPjzSPRzaDPHo7BuLsZf1B0PXdTdkT2Xuth+t2FffAy6cVPXs23/Mbz4tXUyS7vceEZHADETCaO59IPbBuOsLmIRuYHklA8KR5tfn9EQNa0vlk6HNVLnaYGdNjc7j6pewix2p4qMFXTcel05jZxrRVPG60q2sar+nLuG2fm52dXHvWpSaKPj1iDcK42OfrGurI7GJxU2cvMwG55tdnj6il64/4KTMOkm8X4tc/Lnwba1ekyoCpo/79sWL17dB2/c6Nz70SxPkVMjWlZLyRsaL15tz2BfxaumvogJl/DWD1ulaxtEIrE7idZuxY1nnIAbznDnnQdAE9ZAFpf+bQ7m1Xr7yXysqma2qtr44KqPzaCH7DioUbTlqoLO6FoPRjt5rqza02k3ZOvL68t2p2j5PTMkFBcXo7i4GOXl5SgsFHcxVHEaOdeKBoyKkU1oxuJ0HdZP+uxm1c28qNfoGCHzGNuuF4YerwQdPRXV0bgQOf6i7nhr3lb0dRCZVZQm9fJwC3NEKRWJz0/dKEQiEc0i7ZQG+Tnc4J1Oj3HUyf9IZTXXTuJnp7ZC3dxsdLWZTdsrWw726AqQ7/mo9yYMA307NI57MMVzXUls/31HKqWVxZJbOzdVR6PcidmJrNaf0bTVRKOaDqIowPLtB/HyrI0AYimGRDGKgq9yzcD2mLV2D87obM9jLdvCPouMkVOE05glVrCTfnWN4jqyMot+5+7muIol2UbH++iYbudd06MriWtRdY0Sdy/Pz83GpBsH4HfDkjO+ZxpOEiua8fwveqNdk7q4XHeMVeHAGBlAPL7NhM9XcbtzJBLB8O5FaN/UXpysFg3MjwRkCUKShnacE1vYd6xwi9umuG9UzOarXZO6cY2O16kcZKBGDTc6NnUirNXJzUaH2r5aE9UaOT/62Ur87MVv439v2iPuqWil0RnZoyWm3XU2XrcZfZp9TjwDdzJGThE8TxUZ1M/PQfHQ2I68uiaalKXZDfpO6TYPl4q6kP+waZ+U8njIyPIs+n2Zu+6qaMK93E1013TDrUZOz7CTi/DNH87FncO1QqSdzPM85m8+IFVsVwPDeY3so6tWhXVx6xCPNIUGuPXgUufoaDShofNK0JE5tHPjgg7fEN6pViqPSQHEdo+pK3ZrrvuDDacAkQ1Ll6IGtkOWsHMlry/b3SeRoOMQL7K7qqid4sctB6QJI0Dy4nKs0jrTsAjzNsfOqXlGY7LQa9DcCg1mC63MufCnA8fiwexklPvfm52FmJeBm8Vz0f+dp/n7kyU7DK50h76fyIhFJVNmsPIOlNX19HX+3bmdXZfpJBmmFRec4p3gF48wzESBd3t09eZNA1zXywrVLMIoKrfTeGWqkGeS3QUAbG2uvRIc2WWPN/zsbpRI0HGIF4Z3Ksu2HwQQi7WxvjQ5G7HTrpWXk6UxovyrBx4DgPHC4GaH9o8x/TR/uzWg1Qf203wmcfD+34fL469lGP0OMokZ44ZXruuLgRZeYIu2ljkuXx+Q83YJCy+PooZ1NPF4nMTRAbSRdVOJLJmKPZqok5uFu4a7d/v2Qoldcs1p6GZg5+RWS8IKDKps4HZsn9O1uePEnaKomveqqOKJC3vpoeOmwruddpetmVVhYwTxEozavS0JOg4pcJhjSYSt+5LjBshChuGnU9x4dvXr2EQTFNCtcaSZRsjtrs8o/5aXqUPcMqJHS0z+zSDTaw4cdWd8+XhtctSh3ZrjNg+PQcaNSuS2cqrRmb85kTsrlRmZZWlZ2ejIrQrrShGyvTCkjkQihjFb3N4tl7F1qalVY8jYxAztlpwWRqqjRW29P1u6U16hSKRJGfvOEtMebSevlNHRldN0NCp1crMTgUA5jUsaHUHcupfXyc3WBDtTUePguEkTkW/DvS9MuE7MxvR3txsJcxsdd2V/Z5AmIQR2kKYcc6gdUfnFgPZY+tAIvHHjgPhk7jVOj34vY4yavYz4rUfWSTVrm7T3kJzYPV7ZmBktlm4Fq9ychK2LKvfJ+A11PNzkAsAcJsehVyK2WSR8O6lZjIyRZXQVNUEqz3PSrsCaniuqAPqknk44l5Pwcd+RCsy8ZwheuKq343Lr5YXX698o7gjgPmIrqxFxqzI1G4huNS+8JJmA9/FqvKaRwe+yg90I1k75w/ndUJCXjUcu7uno+yO6J+IcyU7VkQpY4ayhhOcGeKeRNMrN5Vb7orppV9VEmcjI7n9D+bHk7PAyYV3Bj3BCJsjAzOO2U3Nx93KjedjpkTFLbk7i6DH5viTopAxe0MBIJIKOzeq52rGeaZEfxKtYHE5hXWZf+nqd4XVukw2yP9vthCXrjNoOQT66EsHrVBEyuW1IZywdPwI929iPkQVoVe8yJu1UcBkTDZk9spN1zO5VKB3ZoQZU1Pk5qgDfb4x5hMrYbHzKOVKSmeNLjYwMADtqk1rKRpaTi1fx5IBEm/5YGwuJxe5zJEHHBbyHLMPt/IbBHU0/d5sD69dnuo80yvL0Fb3irz9bZnyuXGVl7m8Dt4JOvXzjyd+r9VyW6l9mbCU9Zu3qRwZrN7jZbEQikbiwI8NzSxQ3xqcPXtQ9/nohYzj+V4dRnPV4Jah7tXHLZYRVdWGXMQa9XNwBbXu89YM3nqyHjsvRFHm56X7rhy0A+E4QrQrtpa0hQccFPI2OnfDZRlh5dB1xmRqCZwPUwWbgM5Y2TPK5rEjE2HjTpQDBrgFuBR19JFkWN5nczZA1JzTw8Pjn/VsHG352QrPUB43zE1XQSaVGx03Pa1SQLAA/9fNTpSWPNRpzD1x4Mvd94XI9Wit5grkM0zAnebeCRvlx/vHbqW3ta0B5yUVleKaVGwhjjQtycfd53TCiexGeEzQRIUHHBbyBf3Fvucn0eGzguJzbIS87WZsx+RZzjxvz8hLdaJ1J3RZwVJB2kCnoADDMr+SZRkeSRuSFX/SWUg4PNckmj9+ek9qAcX6TXxsry60G1U9kamHY7stqFa000FbwxoWbjZcKbyMqoz1UI1kW2YqNId1iCTuN7P3c8t0GfnDX/5lsdIzgbQxvGCz31IDltTH9UViQi1eu74fzuovlDCRBxwUbmFDZPds0xM9ObZUUmdUpZlmXV+4sd1W2Pqjajw8MR0ubqkAW0TN2tztLdkDJOEZpYLAzc+sdZoSsRefUto2klGOHvOwsT4NkBhFVOxtmQUfmAsxqtnq3a4QzOjfFFX3buvag420s7hnhPo4RT4CSYQ/09JW9rC9yScemMe3pQY8Mn2ev3cN938mz1E+XJzavF4/u7wYjTaGTqT/8Ojgf2bQ3ob0Y0b0l7pCYw8gssVpb5qjICfoYB2xwJifod05GGpEuReLW/DzYYmVoR4yOYmQcXTWrn4e9h7VxZ0Jm4qIhlbFkgoIaoTyVgo5sbaJMjc6OsmPx11+tKsXmxy+UUu701aVJ7wXZIaBNo+T5V3Z1vcqlmApG9mgpJXwE633G4sQuKLyt6RK3cXQA7QIvexEzG5BX9mvnquxqnVGw3TwkekSD97k11GYFEBlGhU0NQp3LEHTe/W2yCjjM7uUeKbkCjVc2On+59BSp5ZkhU2A4vVMiKrfXBrleIev42MvUFYB5wL1GHkdmtktX3QbWa6cFJ6VnrKAjI44Ou3C7DBGTRMO6fC1Llxb1XSfXm7Gar7Z0ihrvwIhrT2+PTs3ruY7KzHqkeCk0dOOcwdvlhGb1cHbX5pr3wuxe7tVxXpBR41mpsUx6tS3E+Iu649Pfnemq3Cv6tbW+SBIy+1y7Jgm7GVkGzkbIdNdmkeX56HZzaIXZppAXmdlP9DZLxyUF2DTK6eXkEdLRlQvY5GeyU0L87NTWuGvykvjfix88D4eOV2smG6fIXrSSjq50nz96ySlQFMW1K2IqwrgsfWiENK8KvSxG2cvDhbrZUD1UIpEIbjzDvZFlKvtB2FzCE+V7U66sDVKSICK5wmZHP49c4iwI5s9ObcWNASQbt4FhVWQaYmesRkcGrGGb7IGZm52Ff/9qYPzvRgV5UoQcAOjUXK6bsIiqUsbEWNTQucG0KDIj9+p/Mck54aIgrtGJ2ejIen5ZWZGU9QXvbF28KVfFq+JlHV1tZ+yVvEB/HKTy6zNPcLwRE3XFdovbwLAqXY2SvTroHSTouOA3ZyeOkC7tI9+t/MwuzfDslb1cq8r1FA+VmzlaL8S8t+AnqeWrtGtSgInXnoZ3LJJP2sHLJKf63bTMrOiE96heV2oKCJlPj90c/IzJiydbaelVl5OpKYonb2TwSkCTNQYPe5SaQeWMzvzo+G7qz3O39wK9DahsnPQNEnRc0L5pAdY+OgprHx1laNjqlstOa+s4jL0RsjRDLKz2yUvO79kKA07gW+M74c+je0grS0+F7qzaq2OEF37RG1/ffY4nZWcyeq8rmcc1bF/w8hjIq7JlClAPX+zdGNQj69hw8bYyzd+yW9kolIPb5+k25pEIVZI0OjIhQccleTlZoXQFnHRjfxTkZeOtX8sRUGREhPYDM+8Gt3zLZCEG5OYKuq3WIP3l6/ri4t5tbCXiI8TwMo4Oq9GRuUjqQ1yEwUanc4sGmnx5tXeQUvZ9o07S/O2VVtWLYh/8Wfek99ze5/RO8jaJLEUNE8/Pa8cF0ugQwgzp1gIrHz4fgw1UpHbhRdRtUCcn8JoGrxIK8pC56Nw7shsWPDAcI3vId3N9/YZ+0ssMIwmNTkwzJ7OnsEaxmm7h0uK+oS4mlldHV7INqksPVWj+llW8Ppq3rI1NS529oKwkmSw3nXkClj40Am/ckAiB4lZQy/co6Od7TDgNWcbIRpCNDuEbPC+B24d2DrymgY0BNPxksXDiTpEp6EQiEc+OSzMtArIRcY1OtVxjZMBYoyPfRscbSUf2BkFvfCuzdPZ4WlbffvOmAZq/yz2KYNywTq7Go9etJk005pldWHOIZh7NS24gQYfwjDB4GbE769G9vTNMBsLjXs5bHN1Gzw4jqkan7Gite7nE5Tdbo9GRV+7Og8e1b3jU5WT3h7W73eXvM4MNsCdLo3OiznPVy8Matq8ccWkEvWX/EeuLHPLq9f1wfo+W0tIgGUFHVzaQERmZSC/qeqzJiIRktPHU42/9+nQfauIvSXZnEoWGbI9sdP7x7SbN37I1Or8+8wRkRYCx53WVWq4emcLfhackvNqaJ9kCOUM/RpIETImwbaF/vnaRHe+N5bzuRZh4XV80KsizvliQ1pwcjCTo2EBGZGQivWjXxF0OMSvCoc/hL46ntJXr+RcG9NFvd0lczHLYIwSmud0Gq9TLqIrkKJsP/Kw7Vj58Pjq34Mc4kYVUV/7sLGx+/EJsfvxCaQKUvpxKSdGAecg0oGbTeISBj25PDq2yT5dDUISMFXQI7/EqjLts/vWrAXjy56cmhTJ3S98OjTV/hyWLAoX7iZGv0+hs3X9UWtlaOSeCF6/ugx6tG2LCZe7yYN0wWBu5+WilfI+xVNhwheSUNyWwR94je7izIyxq4H3QVZnwNHBONl0k6BAZz1ldmrtOlMrjAkZlDiR7xAQVCmwYw8t8RqxGJxKJBa787I6z0KGpu6jl5/fUeuGlIm2KDL4fN0zzNwk6Cdi2GN3LXWBasxQYP++buhxsTnnmil6OoteToEMQHsE6pvRp38jz/ECyCHPyUZkcOu6NJw2g1ZrJNFLv2EwbDDQaEkmnZWEdzLt/mPWFAeLpK3ql5D7sxsOrrPFndWmGp35+qidly+Ryh8IYCTqEZ2T6esnunhZtLfOvIjYhQSfGQY9chgGtRkemx2+LkB1NsLApCsIgn/28b1tMujHmzHL1APkaYRU2FEGuRwFOWzSoE5qNmBNI0CGkcVYXOcEH04UwTNY8vM5VExYaS/Qe0aM9QpC7wFx7evtEySFau9hFPIhpBHgM6dYCyx4agb9c6s62yowCxkA9KWu6JBRPHeTd8eTlMU3Ts1c616CFw2iACAWpyC5OeE/HZnKz24eVwrryMtnrYXfpsk2iunjsEeUVbJt4nUZAJg0c2IzYgT2uypHYWfp2aIwFWw4AkJdx3Auu7N8OV/Rr60rjRBodQhq3DjnR+qIMQrZrb6poWCcXf/vlaX5Xw3eGntTCs7LZOZuOCmOwR1ekVUzAHnPKjEg9pGvz+Ougt7fbYzUSdAhpNHAZAyTdYMWcDk3lZ4z3kgtOacXNX5ZJeOl9tvSng/HXXjq5hSXEA6Btby/j0oQNVriRaUfDpucJy1GhU2hlIqRh5rqYibAKnVeuC1+izGev7IX73l+GW4eSps5LZC8xrCYxrMoiL5JkhhXZme6f+vmpWLPrEEYxoQi8TsTpNyToENLQu8mmsxW/COxU3a1l+OwmOjWvj3d+O8jvaqQ9nyzZgYcv7imtPLbfhXUEhvTU1xM0HnoS5tQrODHDgmyjIwM6uiKkodfobN3nXQK5MBBWGx0itRw4KteNnd2dh3WvEZb4P6lAa7juzQNNd41Oxgo6lNRTPnqbhjfnbvGpJgQRHvrpUoW45aJerZm/winp0CYhAbuBLMj3Jlr3KW3SO5ddxgo6lNRTPjIjvBJEELh3ZDfP73H94I5Sy2tV6G1y2lRAoSq0PHDhyfjtOSfiRMaAWAZf3nU2xp7XFXd5nI3eb8hGh5CGzAiv6QBtSsNPm0beCw25Hhrxh23v8dr1/bD0pzKc191d8sp049dndfKk3K5FDdC1KHz2g3ahpYmQRg5JOhp+3rctGhXk4rLT3CXiI/wjFQlOW3igvRh2UgsUNczH2V2aW18cIIZ3L8LYEd0y3pGBkAtpdAhpUNZrLY3r5eHHPw1Hjkdh2wnvkRmJ1ohGBfIj6742ph+iCo1JggBI0CEITyEhJ9ywhqCdW8i1j4jfwwPtRSQSgUeJrgkidNAsTBAEYQBrYP/E5fISNzaok9hjktKFILyFBB1CKsUURZdII9ijnzaN5KXxYLU4dXK9cRkmCCIGCTqEVH53bpf461S45hKEl7CCjswTpoEnNIm/JldqgvAWstEhpFInNxvfjxuGHzbtw4WntPK7OgThCq8EnccvPxUnNN+AK/omh+MnCEIuJOgQ0mlZWAcX9yaXaiL8sEdMMjOBN6mXh3GjTpZWHkEQxtDRFUEQhAGsoTAZDRNEOCFBhyAIQgAKiEkQ4YRGLkEQhAAk5xBEOKGhSxAEIQBFGSaIcEKCDkEQhAAk6BBEOCFBhyAIwgA2AX02JZokiFBCgg5BEIQApNEhiHCSsYJOSUkJunfvjv79+/tdFYIgAgor2kRIo0MQoSRjBZ3i4mKsXLkS8+fP97sqBEEEFMX6EoIgAk7GCjoEQRBWtCqkPFQEEXYoBQRBEIQBHZrWw8RrT0Pjgjy/q0IQhENI0CEIgjDh/J6UnJYgwgwdXREEQRAEkbaQoEMQBEEQRNpCgg5BEARBEGkLCToEQRAEQaQtJOgQBEEQBJG2kKBDEARBEETaQoIOQRAEQRBpCwk6BEEQBEGkLSToEARBEASRtpCgQxAEQRBE2kKCDkEQBEEQaQsJOgRBEARBpC0k6BAEQRAEkbZkfPZyRVEAAOXl5T7XhCAIgiAIUdR1W13Hjch4QWffvn0AgHbt2vlcE4IgCIIg7LJv3z4UFhYafp7xgk6TJk0AAFu3bk1qqP79+2P+/PnS7+lVuV6W7VW55eXlaNeuHbZt24aGDRtKLZvaOTVl0zNMTblele3l8wOonVNRdqY+w4MHD6J9+/bxddyIjBd0srJiZkqFhYVJHSQ7O9uTTuNVuV6W7WWdAaBhw4bSy6d2Tl3ZAD1Dr8v1umwvnh9A7ZzKsjP1GarruOHnru+QxhQXF4eqXC/L9rLOXkHtnLqyvSKM7RHGOnsJtXPqyvaKMD5DlohiZcWT5pSXl6OwsBAHDx70dLdL8KH2Dz/0DMMNPb/wk6nPUPR3Z7xGJz8/H+PHj0d+fr7fVclIqP3DDz3DcEPPL/xk6jMU/d0Zr9EhCIIgCCJ9yXiNDkEQBEEQ6QsJOgRBEARBpC0k6BAEQRAEkbaQoEMQBEEQRNpCgg7higkTJqB///5o0KABWrRogUsuuQRr1qzRXHP8+HEUFxejadOmqF+/Pi6//HLs3r1bc83WrVtx4YUXoqCgAC1atMC9996L6urq+OczZ85EJBJJ+rdr166U/M50RtYzvOOOO9C3b1/k5+ejd+/e3HstXboUZ511FurUqYN27drhySef9OpnZRSpeoabN2/mjsPvv//ey5+XEch4hkuWLMHVV1+Ndu3aoW7dujj55JPxwgsvJN1r5syZOO2005Cfn4/OnTtj0qRJXv88XyFBh3DFrFmzUFxcjO+//x7Tpk1DVVUVRowYgSNHjsSvueuuu/DJJ5/g3XffxaxZs7Bjxw5cdtll8c9rampw4YUXorKyEt999x3efPNNTJo0CQ8++GDS/dasWYOdO3fG/7Vo0SIlvzOdkfEMVW666SZcddVV3PuUl5djxIgR6NChAxYsWICnnnoKDz30EF555RXPflumkKpnqPLVV19pxmHfvn2l/6ZMQ8YzXLBgAVq0aIF///vfWLFiBf70pz9h3LhxeOmll+LXbNq0CRdeeCGGDh2KxYsX484778Svf/1rTJ06NaW/N6UoBCGR0tJSBYAya9YsRVEUpaysTMnNzVXefffd+DWrVq1SAChz585VFEVRPv/8cyUrK0vZtWtX/Jq///3vSsOGDZWKigpFURRlxowZCgDlwIEDqfsxGYqTZ8gyfvx4pVevXknv/+1vf1MaN24cf6aKoih//OMflW7dusn/ERmOV89w06ZNCgBl0aJFXlWdqMXtM1S57bbblKFDh8b//sMf/qD06NFDc81VV12ljBw5UvIvCA6k0SGkcvDgQQCJZKkLFixAVVUVhg8fHr/mpJNOQvv27TF37lwAwNy5c3HKKaegqKgofs3IkSNRXl6OFStWaMrv3bs3WrVqhfPOOw9z5szx+udkJE6eoQhz587F2Wefjby8vPh7I0eOxJo1a3DgwAFJtScA756hyujRo9GiRQuceeaZ+Pjjj+VUmtAg6xkePHhQk/Ry7ty5mjKA2Dh00g/CAgk6hDSi0SjuvPNOnHHGGejZsycAYNeuXcjLy0OjRo001xYVFcXta3bt2qURctTP1c8AoFWrVpg4cSLef/99vP/++2jXrh2GDBmChQsXevyrMgunz1AEkedMuMfLZ1i/fn0888wzePfdd/HZZ5/hzDPPxCWXXELCjmRkPcPvvvsOkydPxi233BJ/z2gclpeX49ixY3J/SEDI+OzlhDyKi4uxfPlyfPvtt9LL7tatG7p16xb/e/DgwdiwYQOee+45/Otf/5J+v0zFy2dIpAYvn2GzZs0wduzY+N/9+/fHjh078NRTT2H06NHS75epyHiGy5cvx8UXX4zx48djxIgREmsXPkijQ0jh9ttvx6effooZM2agbdu28fdbtmyJyspKlJWVaa7fvXs3WrZsGb9G7/2h/q1ew2PAgAFYv369pF9AuHmGIjh9zoQ4Xj9DHgMHDqRxKBEZz3DlypUYNmwYbrnlFjzwwAOaz4zGYcOGDVG3bl25PyYgkKBDuEJRFNx+++344IMP8PXXX+OEE07QfN63b1/k5uZi+vTp8ffWrFmDrVu3YtCgQQCAQYMGYdmyZSgtLY1fM23aNDRs2BDdu3c3vPfixYvRqlUryb8o85DxDEUYNGgQZs+ejaqqqvh706ZNQ7du3dC4cWP3PySDSdUz5EHjUA6ynuGKFSswdOhQjBkzBo899ljSfQYNGqQpA4iNQ7f9IND4awtNhJ1bb71VKSwsVGbOnKns3Lkz/u/o0aPxa377298q7du3V77++mvlxx9/VAYNGqQMGjQo/nl1dbXSs2dPZcSIEcrixYuVKVOmKM2bN1fGjRsXv+a5555TPvzwQ2XdunXKsmXLlN///vdKVlaW8tVXX6X096YjMp6hoijKunXrlEWLFim/+c1vlK5duyqLFi1SFi1aFPeyKisrU4qKipTrrrtOWb58ufL2228rBQUFyssvv5zS35uOpOoZTpo0SXnrrbeUVatWKatWrVIee+wxJSsrS3n99ddT+nvTERnPcNmyZUrz5s2Va6+9VlNGaWlp/JqNGzcqBQUFyr333qusWrVKKSkpUbKzs5UpU6ak9PemEhJ0CFcA4P5744034tccO3ZMue2225TGjRsrBQUFyqWXXqrs3LlTU87mzZuVUaNGKXXr1lWaNWum3H333UpVVVX88yeeeEI58cQTlTp16ihNmjRRhgwZonz99dep+plpjaxneM4553DL2bRpU/yaJUuWKGeeeaaSn5+vtGnTRnn88cdT9CvTm1Q9w0mTJiknn3yyUlBQoDRs2FAZMGCAxt2ZcI6MZzh+/HhuGR06dNDca8aMGUrv3r2VvLw8pVOnTpp7pCMRRVEUDxVGBEEQBEEQvkE2OgRBEARBpC0k6BAEQRAEkbaQoEMQBEEQRNpCgg5BEARBEGkLCToEQRAEQaQtJOgQBEEQBJG2kKBDEARBEETaQoIOQRAEQRBpCwk6BEEQBEGkLSToEARBEASRtpCgQxAEQRBE2kKCDkEQBEEQacv/A7UjqhAaZTijAAAAAElFTkSuQmCC",
      "text/plain": [
       "<Figure size 640x480 with 1 Axes>"
      ]
     },
     "metadata": {},
     "output_type": "display_data"
    }
   ],
=======
   "execution_count": null,
   "metadata": {},
   "outputs": [],
>>>>>>> cff3b267c4f4500fbba18e12aad781327adfe067
   "source": [
    "site = '09506000'\n",
    "begin_date = '2000-09-25'\n",
    "end_date = '2022-09-25'\n",
    "\n",
    "df = open_usgs_data(site, begin_date, end_date)\n",
    "df['streamflow'].plot()\n",
    "plt.semilogy()\n",
    "plt.ylabel('Streamflow [cfs]')\n",
    "plt.xlabel('')"
   ]
  },
  {
   "cell_type": "markdown",
   "metadata": {},
   "source": [
    "Hmm, 20 years of daily data starts to blend together.\n",
    "Just a quick aside on another nice feature of pandas, the resample\n",
    "Let's just resample the data down to monthly means like so:"
   ]
  },
  {
   "cell_type": "code",
   "execution_count": null,
   "id": "1b542050",
   "metadata": {},
   "outputs": [],
   "source": [
    "df.index"
   ]
  },
  {
   "cell_type": "code",
   "execution_count": null,
   "metadata": {},
   "outputs": [],
   "source": [
    "df['streamflow'].resample('M').mean().plot()\n",
    "plt.semilogy()\n",
    "plt.ylabel('Streamflow [cfs]')\n",
    "plt.xlabel('')"
   ]
  },
  {
   "cell_type": "markdown",
   "metadata": {},
   "source": [
    "Now, let's look at some DayMet data. \n",
    "Before that, let me explain...\n",
    "\n",
    "DayMet actually has a really nice interactive\n",
    "API explorer that you can use to prototype:\n",
    "- https://daymet.ornl.gov/single-pixel/api"
   ]
  },
  {
   "cell_type": "code",
<<<<<<< HEAD
   "execution_count": 19,
   "metadata": {},
   "outputs": [
    {
     "data": {
      "text/plain": [
       "'https://daymet.ornl.gov/single-pixel/api/data?lat=34.9455&lon=-113.2549&vars=prcp&start=1984-08-14&end=2014-10-18&format=json'"
      ]
     },
     "execution_count": 19,
     "metadata": {},
     "output_type": "execute_result"
    }
   ],
=======
   "execution_count": null,
   "metadata": {},
   "outputs": [],
>>>>>>> cff3b267c4f4500fbba18e12aad781327adfe067
   "source": [
    "url = \"https://daymet.ornl.gov/single-pixel/api/data?lat=34.9455&lon=-113.2549\"  \\\n",
    "       \"&vars=prcp&start=1984-08-14&end=2014-10-18&format=json\"\n",
    "url"
   ]
  },
  {
   "cell_type": "code",
<<<<<<< HEAD
   "execution_count": 20,
   "metadata": {},
   "outputs": [
    {
     "data": {
      "text/plain": [
       "'https://daymet.ornl.gov/single-pixel/api/data?lat=34.4483605&lon=-111.7898705&start=2000-09-20&end=2020-09-25&vars=%5B%27prcp%27%2C+%27Tmax%27%2C+%27Tmin%27%5D&format=csv'"
      ]
     },
     "execution_count": 20,
     "metadata": {},
     "output_type": "execute_result"
    }
   ],
=======
   "execution_count": null,
   "metadata": {},
   "outputs": [],
>>>>>>> cff3b267c4f4500fbba18e12aad781327adfe067
   "source": [
    "begin_date = '2000-09-20'\n",
    "end_date = '2020-09-25'\n",
    "args = {\n",
    "    'lat':  34.4483605,\n",
    "    'lon': -111.7898705,\n",
    "    'start': begin_date,\n",
    "    'end': end_date,\n",
    "    'vars': ['prcp', 'Tmax', 'Tmin'],\n",
    "    'format': 'csv'\n",
    "}\n",
    "query = urllib.parse.urlencode(args)\n",
    "url = f\"https://daymet.ornl.gov/single-pixel/api/data?{query}\"\n",
    "url"
   ]
  },
  {
   "cell_type": "code",
<<<<<<< HEAD
   "execution_count": 21,
   "metadata": {},
   "outputs": [
    {
     "data": {
      "text/html": [
       "<div>\n",
       "<style scoped>\n",
       "    .dataframe tbody tr th:only-of-type {\n",
       "        vertical-align: middle;\n",
       "    }\n",
       "\n",
       "    .dataframe tbody tr th {\n",
       "        vertical-align: top;\n",
       "    }\n",
       "\n",
       "    .dataframe thead th {\n",
       "        text-align: right;\n",
       "    }\n",
       "</style>\n",
       "<table border=\"1\" class=\"dataframe\">\n",
       "  <thead>\n",
       "    <tr style=\"text-align: right;\">\n",
       "      <th></th>\n",
       "      <th>year</th>\n",
       "      <th>yday</th>\n",
       "      <th>dayl (s)</th>\n",
       "      <th>prcp (mm/day)</th>\n",
       "      <th>srad (W/m^2)</th>\n",
       "      <th>swe (kg/m^2)</th>\n",
       "      <th>tmax (deg c)</th>\n",
       "      <th>tmin (deg c)</th>\n",
       "      <th>vp (Pa)</th>\n",
       "    </tr>\n",
       "  </thead>\n",
       "  <tbody>\n",
       "    <tr>\n",
       "      <th>0</th>\n",
       "      <td>2000</td>\n",
       "      <td>264</td>\n",
       "      <td>43133.96</td>\n",
       "      <td>0.0</td>\n",
       "      <td>440.31</td>\n",
       "      <td>0.0</td>\n",
       "      <td>36.56</td>\n",
       "      <td>14.95</td>\n",
       "      <td>1315.16</td>\n",
       "    </tr>\n",
       "    <tr>\n",
       "      <th>1</th>\n",
       "      <td>2000</td>\n",
       "      <td>265</td>\n",
       "      <td>43001.01</td>\n",
       "      <td>0.0</td>\n",
       "      <td>347.65</td>\n",
       "      <td>0.0</td>\n",
       "      <td>32.41</td>\n",
       "      <td>17.09</td>\n",
       "      <td>1692.53</td>\n",
       "    </tr>\n",
       "    <tr>\n",
       "      <th>2</th>\n",
       "      <td>2000</td>\n",
       "      <td>266</td>\n",
       "      <td>42868.10</td>\n",
       "      <td>0.0</td>\n",
       "      <td>310.08</td>\n",
       "      <td>0.0</td>\n",
       "      <td>30.70</td>\n",
       "      <td>17.40</td>\n",
       "      <td>1776.14</td>\n",
       "    </tr>\n",
       "    <tr>\n",
       "      <th>3</th>\n",
       "      <td>2000</td>\n",
       "      <td>267</td>\n",
       "      <td>42735.24</td>\n",
       "      <td>0.0</td>\n",
       "      <td>281.34</td>\n",
       "      <td>0.0</td>\n",
       "      <td>29.46</td>\n",
       "      <td>17.50</td>\n",
       "      <td>1868.06</td>\n",
       "    </tr>\n",
       "    <tr>\n",
       "      <th>4</th>\n",
       "      <td>2000</td>\n",
       "      <td>268</td>\n",
       "      <td>42602.47</td>\n",
       "      <td>0.0</td>\n",
       "      <td>436.81</td>\n",
       "      <td>0.0</td>\n",
       "      <td>31.15</td>\n",
       "      <td>10.49</td>\n",
       "      <td>958.68</td>\n",
       "    </tr>\n",
       "  </tbody>\n",
       "</table>\n",
       "</div>"
      ],
      "text/plain": [
       "   year  yday  dayl (s)  prcp (mm/day)  srad (W/m^2)  swe (kg/m^2)  \\\n",
       "0  2000   264  43133.96            0.0        440.31           0.0   \n",
       "1  2000   265  43001.01            0.0        347.65           0.0   \n",
       "2  2000   266  42868.10            0.0        310.08           0.0   \n",
       "3  2000   267  42735.24            0.0        281.34           0.0   \n",
       "4  2000   268  42602.47            0.0        436.81           0.0   \n",
       "\n",
       "   tmax (deg c)  tmin (deg c)  vp (Pa)  \n",
       "0         36.56         14.95  1315.16  \n",
       "1         32.41         17.09  1692.53  \n",
       "2         30.70         17.40  1776.14  \n",
       "3         29.46         17.50  1868.06  \n",
       "4         31.15         10.49   958.68  "
      ]
     },
     "execution_count": 21,
     "metadata": {},
     "output_type": "execute_result"
    }
   ],
=======
   "execution_count": null,
   "metadata": {},
   "outputs": [],
>>>>>>> cff3b267c4f4500fbba18e12aad781327adfe067
   "source": [
    "response = urllib.request.urlopen(url)\n",
    "daymet_df = pd.read_csv(response, header=6)\n",
    "daymet_df.head()"
   ]
  },
  {
   "cell_type": "markdown",
   "metadata": {},
   "source": [
    "Daymet is annoying in that it only reports the year\n",
    "and day of year, rather than real dates. Also it uses\n",
    "a no-leap calendar, meaning all years have 365 days.\n",
    "So now our goal is to convert the `year` and `yday`\n",
    "columns into proper date times. This one took me a \n",
    "second to figure out, but some quick googling got \n",
    "me there:\n",
    "https://stackoverflow.com/questions/34258892/converting-year-and-day-of-year-into-datetime-index-in-pandas"
   ]
  },
  {
   "cell_type": "code",
<<<<<<< HEAD
   "execution_count": 22,
   "metadata": {},
   "outputs": [
    {
     "data": {
      "text/plain": [
       "0    2000264\n",
       "1    2000265\n",
       "2    2000266\n",
       "3    2000267\n",
       "4    2000268\n",
       "dtype: object"
      ]
     },
     "execution_count": 22,
     "metadata": {},
     "output_type": "execute_result"
    }
   ],
=======
   "execution_count": null,
   "metadata": {},
   "outputs": [],
>>>>>>> cff3b267c4f4500fbba18e12aad781327adfe067
   "source": [
    "datestring = (daymet_df['year'].astype(str) \n",
    "              + daymet_df['yday'].astype(str))\n",
    "datestring.head()"
   ]
  },
  {
   "cell_type": "markdown",
   "metadata": {},
   "source": [
    "And we can pass that directly into the `pd.to_datetime` \n",
    "function, with a format of `%Y%j` which means YEAR followed\n",
    "by the Julian day (AKA day of year)"
   ]
  },
  {
   "cell_type": "code",
<<<<<<< HEAD
   "execution_count": 23,
   "metadata": {},
   "outputs": [
    {
     "data": {
      "text/html": [
       "<div>\n",
       "<style scoped>\n",
       "    .dataframe tbody tr th:only-of-type {\n",
       "        vertical-align: middle;\n",
       "    }\n",
       "\n",
       "    .dataframe tbody tr th {\n",
       "        vertical-align: top;\n",
       "    }\n",
       "\n",
       "    .dataframe thead th {\n",
       "        text-align: right;\n",
       "    }\n",
       "</style>\n",
       "<table border=\"1\" class=\"dataframe\">\n",
       "  <thead>\n",
       "    <tr style=\"text-align: right;\">\n",
       "      <th></th>\n",
       "      <th>year</th>\n",
       "      <th>yday</th>\n",
       "      <th>dayl (s)</th>\n",
       "      <th>prcp (mm/day)</th>\n",
       "      <th>srad (W/m^2)</th>\n",
       "      <th>swe (kg/m^2)</th>\n",
       "      <th>tmax (deg c)</th>\n",
       "      <th>tmin (deg c)</th>\n",
       "      <th>vp (Pa)</th>\n",
       "    </tr>\n",
       "  </thead>\n",
       "  <tbody>\n",
       "    <tr>\n",
       "      <th>2000-09-20</th>\n",
       "      <td>2000</td>\n",
       "      <td>264</td>\n",
       "      <td>43133.96</td>\n",
       "      <td>0.0</td>\n",
       "      <td>440.31</td>\n",
       "      <td>0.0</td>\n",
       "      <td>36.56</td>\n",
       "      <td>14.95</td>\n",
       "      <td>1315.16</td>\n",
       "    </tr>\n",
       "    <tr>\n",
       "      <th>2000-09-21</th>\n",
       "      <td>2000</td>\n",
       "      <td>265</td>\n",
       "      <td>43001.01</td>\n",
       "      <td>0.0</td>\n",
       "      <td>347.65</td>\n",
       "      <td>0.0</td>\n",
       "      <td>32.41</td>\n",
       "      <td>17.09</td>\n",
       "      <td>1692.53</td>\n",
       "    </tr>\n",
       "    <tr>\n",
       "      <th>2000-09-22</th>\n",
       "      <td>2000</td>\n",
       "      <td>266</td>\n",
       "      <td>42868.10</td>\n",
       "      <td>0.0</td>\n",
       "      <td>310.08</td>\n",
       "      <td>0.0</td>\n",
       "      <td>30.70</td>\n",
       "      <td>17.40</td>\n",
       "      <td>1776.14</td>\n",
       "    </tr>\n",
       "    <tr>\n",
       "      <th>2000-09-23</th>\n",
       "      <td>2000</td>\n",
       "      <td>267</td>\n",
       "      <td>42735.24</td>\n",
       "      <td>0.0</td>\n",
       "      <td>281.34</td>\n",
       "      <td>0.0</td>\n",
       "      <td>29.46</td>\n",
       "      <td>17.50</td>\n",
       "      <td>1868.06</td>\n",
       "    </tr>\n",
       "    <tr>\n",
       "      <th>2000-09-24</th>\n",
       "      <td>2000</td>\n",
       "      <td>268</td>\n",
       "      <td>42602.47</td>\n",
       "      <td>0.0</td>\n",
       "      <td>436.81</td>\n",
       "      <td>0.0</td>\n",
       "      <td>31.15</td>\n",
       "      <td>10.49</td>\n",
       "      <td>958.68</td>\n",
       "    </tr>\n",
       "  </tbody>\n",
       "</table>\n",
       "</div>"
      ],
      "text/plain": [
       "            year  yday  dayl (s)  prcp (mm/day)  srad (W/m^2)  swe (kg/m^2)  \\\n",
       "2000-09-20  2000   264  43133.96            0.0        440.31           0.0   \n",
       "2000-09-21  2000   265  43001.01            0.0        347.65           0.0   \n",
       "2000-09-22  2000   266  42868.10            0.0        310.08           0.0   \n",
       "2000-09-23  2000   267  42735.24            0.0        281.34           0.0   \n",
       "2000-09-24  2000   268  42602.47            0.0        436.81           0.0   \n",
       "\n",
       "            tmax (deg c)  tmin (deg c)  vp (Pa)  \n",
       "2000-09-20         36.56         14.95  1315.16  \n",
       "2000-09-21         32.41         17.09  1692.53  \n",
       "2000-09-22         30.70         17.40  1776.14  \n",
       "2000-09-23         29.46         17.50  1868.06  \n",
       "2000-09-24         31.15         10.49   958.68  "
      ]
     },
     "execution_count": 23,
     "metadata": {},
     "output_type": "execute_result"
    }
   ],
=======
   "execution_count": null,
   "metadata": {},
   "outputs": [],
>>>>>>> cff3b267c4f4500fbba18e12aad781327adfe067
   "source": [
    "dates = pd.to_datetime(datestring, format='%Y%j')\n",
    "daymet_df.index = pd.DatetimeIndex(dates)\n",
    "daymet_df.head()"
   ]
  },
  {
   "cell_type": "markdown",
   "metadata": {},
   "source": [
    "With the dates correct, we now can merge things together\n",
    "Just one last minor hickup, the lack of leap years in\n",
    "daymet means we have to reindex to the dates from the \n",
    "USGS database. Finally, for shorthand I just rename the whole thing `df`."
   ]
  },
  {
   "cell_type": "code",
<<<<<<< HEAD
   "execution_count": 24,
=======
   "execution_count": null,
>>>>>>> cff3b267c4f4500fbba18e12aad781327adfe067
   "metadata": {},
   "outputs": [
    {
     "ename": "KeyboardInterrupt",
     "evalue": "",
     "output_type": "error",
     "traceback": [
      "\u001b[31m---------------------------------------------------------------------------\u001b[39m",
      "\u001b[31mKeyboardInterrupt\u001b[39m                         Traceback (most recent call last)",
      "\u001b[36mCell\u001b[39m\u001b[36m \u001b[39m\u001b[32mIn[24]\u001b[39m\u001b[32m, line 1\u001b[39m\n\u001b[32m----> \u001b[39m\u001b[32m1\u001b[39m verde_df = \u001b[43mopen_usgs_data\u001b[49m\u001b[43m(\u001b[49m\u001b[43msite\u001b[49m\u001b[43m,\u001b[49m\u001b[43m \u001b[49m\u001b[43mbegin_date\u001b[49m\u001b[43m,\u001b[49m\u001b[43m \u001b[49m\u001b[43mend_date\u001b[49m\u001b[43m)\u001b[49m\n\u001b[32m      2\u001b[39m daymet_df = daymet_df.reindex(verde_df.index)\n\u001b[32m      3\u001b[39m daymet_df[\u001b[33m'\u001b[39m\u001b[33mstreamflow\u001b[39m\u001b[33m'\u001b[39m] = verde_df[\u001b[33m'\u001b[39m\u001b[33mstreamflow\u001b[39m\u001b[33m'\u001b[39m]\n",
      "\u001b[36mCell\u001b[39m\u001b[36m \u001b[39m\u001b[32mIn[17]\u001b[39m\u001b[32m, line 12\u001b[39m, in \u001b[36mopen_usgs_data\u001b[39m\u001b[34m(site, begin_date, end_date)\u001b[39m\n\u001b[32m     10\u001b[39m \u001b[38;5;28;01mdef\u001b[39;00m\u001b[38;5;250m \u001b[39m\u001b[34mopen_usgs_data\u001b[39m(site, begin_date, end_date):\n\u001b[32m     11\u001b[39m     url = create_usgs_url((site), begin_date, end_date)\n\u001b[32m---> \u001b[39m\u001b[32m12\u001b[39m     response = \u001b[43murllib\u001b[49m\u001b[43m.\u001b[49m\u001b[43mrequest\u001b[49m\u001b[43m.\u001b[49m\u001b[43murlopen\u001b[49m\u001b[43m(\u001b[49m\u001b[43murl\u001b[49m\u001b[43m)\u001b[49m\n\u001b[32m     13\u001b[39m     df = pd.read_table(\n\u001b[32m     14\u001b[39m         response,\n\u001b[32m     15\u001b[39m         comment=\u001b[33m'\u001b[39m\u001b[33m#\u001b[39m\u001b[33m'\u001b[39m,\n\u001b[32m   (...)\u001b[39m\u001b[32m     20\u001b[39m         engine=\u001b[33m'\u001b[39m\u001b[33mpython\u001b[39m\u001b[33m'\u001b[39m\n\u001b[32m     21\u001b[39m     ).iloc[\u001b[32m2\u001b[39m:]\n\u001b[32m     23\u001b[39m     \u001b[38;5;66;03m# Now convert the streamflow data to floats and\u001b[39;00m\n\u001b[32m     24\u001b[39m     \u001b[38;5;66;03m# the index to datetimes. When processing raw data\u001b[39;00m\n\u001b[32m     25\u001b[39m     \u001b[38;5;66;03m# it's common to have to do some extra postprocessing\u001b[39;00m\n",
      "\u001b[36mFile \u001b[39m\u001b[32m/usr/local/lib/python3.11/urllib/request.py:216\u001b[39m, in \u001b[36murlopen\u001b[39m\u001b[34m(url, data, timeout, cafile, capath, cadefault, context)\u001b[39m\n\u001b[32m    214\u001b[39m \u001b[38;5;28;01melse\u001b[39;00m:\n\u001b[32m    215\u001b[39m     opener = _opener\n\u001b[32m--> \u001b[39m\u001b[32m216\u001b[39m \u001b[38;5;28;01mreturn\u001b[39;00m \u001b[43mopener\u001b[49m\u001b[43m.\u001b[49m\u001b[43mopen\u001b[49m\u001b[43m(\u001b[49m\u001b[43murl\u001b[49m\u001b[43m,\u001b[49m\u001b[43m \u001b[49m\u001b[43mdata\u001b[49m\u001b[43m,\u001b[49m\u001b[43m \u001b[49m\u001b[43mtimeout\u001b[49m\u001b[43m)\u001b[49m\n",
      "\u001b[36mFile \u001b[39m\u001b[32m/usr/local/lib/python3.11/urllib/request.py:519\u001b[39m, in \u001b[36mOpenerDirector.open\u001b[39m\u001b[34m(self, fullurl, data, timeout)\u001b[39m\n\u001b[32m    516\u001b[39m     req = meth(req)\n\u001b[32m    518\u001b[39m sys.audit(\u001b[33m'\u001b[39m\u001b[33murllib.Request\u001b[39m\u001b[33m'\u001b[39m, req.full_url, req.data, req.headers, req.get_method())\n\u001b[32m--> \u001b[39m\u001b[32m519\u001b[39m response = \u001b[38;5;28;43mself\u001b[39;49m\u001b[43m.\u001b[49m\u001b[43m_open\u001b[49m\u001b[43m(\u001b[49m\u001b[43mreq\u001b[49m\u001b[43m,\u001b[49m\u001b[43m \u001b[49m\u001b[43mdata\u001b[49m\u001b[43m)\u001b[49m\n\u001b[32m    521\u001b[39m \u001b[38;5;66;03m# post-process response\u001b[39;00m\n\u001b[32m    522\u001b[39m meth_name = protocol+\u001b[33m\"\u001b[39m\u001b[33m_response\u001b[39m\u001b[33m\"\u001b[39m\n",
      "\u001b[36mFile \u001b[39m\u001b[32m/usr/local/lib/python3.11/urllib/request.py:536\u001b[39m, in \u001b[36mOpenerDirector._open\u001b[39m\u001b[34m(self, req, data)\u001b[39m\n\u001b[32m    533\u001b[39m     \u001b[38;5;28;01mreturn\u001b[39;00m result\n\u001b[32m    535\u001b[39m protocol = req.type\n\u001b[32m--> \u001b[39m\u001b[32m536\u001b[39m result = \u001b[38;5;28;43mself\u001b[39;49m\u001b[43m.\u001b[49m\u001b[43m_call_chain\u001b[49m\u001b[43m(\u001b[49m\u001b[38;5;28;43mself\u001b[39;49m\u001b[43m.\u001b[49m\u001b[43mhandle_open\u001b[49m\u001b[43m,\u001b[49m\u001b[43m \u001b[49m\u001b[43mprotocol\u001b[49m\u001b[43m,\u001b[49m\u001b[43m \u001b[49m\u001b[43mprotocol\u001b[49m\u001b[43m \u001b[49m\u001b[43m+\u001b[49m\n\u001b[32m    537\u001b[39m \u001b[43m                          \u001b[49m\u001b[33;43m'\u001b[39;49m\u001b[33;43m_open\u001b[39;49m\u001b[33;43m'\u001b[39;49m\u001b[43m,\u001b[49m\u001b[43m \u001b[49m\u001b[43mreq\u001b[49m\u001b[43m)\u001b[49m\n\u001b[32m    538\u001b[39m \u001b[38;5;28;01mif\u001b[39;00m result:\n\u001b[32m    539\u001b[39m     \u001b[38;5;28;01mreturn\u001b[39;00m result\n",
      "\u001b[36mFile \u001b[39m\u001b[32m/usr/local/lib/python3.11/urllib/request.py:496\u001b[39m, in \u001b[36mOpenerDirector._call_chain\u001b[39m\u001b[34m(self, chain, kind, meth_name, *args)\u001b[39m\n\u001b[32m    494\u001b[39m \u001b[38;5;28;01mfor\u001b[39;00m handler \u001b[38;5;129;01min\u001b[39;00m handlers:\n\u001b[32m    495\u001b[39m     func = \u001b[38;5;28mgetattr\u001b[39m(handler, meth_name)\n\u001b[32m--> \u001b[39m\u001b[32m496\u001b[39m     result = \u001b[43mfunc\u001b[49m\u001b[43m(\u001b[49m\u001b[43m*\u001b[49m\u001b[43margs\u001b[49m\u001b[43m)\u001b[49m\n\u001b[32m    497\u001b[39m     \u001b[38;5;28;01mif\u001b[39;00m result \u001b[38;5;129;01mis\u001b[39;00m \u001b[38;5;129;01mnot\u001b[39;00m \u001b[38;5;28;01mNone\u001b[39;00m:\n\u001b[32m    498\u001b[39m         \u001b[38;5;28;01mreturn\u001b[39;00m result\n",
      "\u001b[36mFile \u001b[39m\u001b[32m/usr/local/lib/python3.11/urllib/request.py:1391\u001b[39m, in \u001b[36mHTTPSHandler.https_open\u001b[39m\u001b[34m(self, req)\u001b[39m\n\u001b[32m   1390\u001b[39m \u001b[38;5;28;01mdef\u001b[39;00m\u001b[38;5;250m \u001b[39m\u001b[34mhttps_open\u001b[39m(\u001b[38;5;28mself\u001b[39m, req):\n\u001b[32m-> \u001b[39m\u001b[32m1391\u001b[39m     \u001b[38;5;28;01mreturn\u001b[39;00m \u001b[38;5;28;43mself\u001b[39;49m\u001b[43m.\u001b[49m\u001b[43mdo_open\u001b[49m\u001b[43m(\u001b[49m\u001b[43mhttp\u001b[49m\u001b[43m.\u001b[49m\u001b[43mclient\u001b[49m\u001b[43m.\u001b[49m\u001b[43mHTTPSConnection\u001b[49m\u001b[43m,\u001b[49m\u001b[43m \u001b[49m\u001b[43mreq\u001b[49m\u001b[43m,\u001b[49m\n\u001b[32m   1392\u001b[39m \u001b[43m        \u001b[49m\u001b[43mcontext\u001b[49m\u001b[43m=\u001b[49m\u001b[38;5;28;43mself\u001b[39;49m\u001b[43m.\u001b[49m\u001b[43m_context\u001b[49m\u001b[43m,\u001b[49m\u001b[43m \u001b[49m\u001b[43mcheck_hostname\u001b[49m\u001b[43m=\u001b[49m\u001b[38;5;28;43mself\u001b[39;49m\u001b[43m.\u001b[49m\u001b[43m_check_hostname\u001b[49m\u001b[43m)\u001b[49m\n",
      "\u001b[36mFile \u001b[39m\u001b[32m/usr/local/lib/python3.11/urllib/request.py:1348\u001b[39m, in \u001b[36mAbstractHTTPHandler.do_open\u001b[39m\u001b[34m(self, http_class, req, **http_conn_args)\u001b[39m\n\u001b[32m   1346\u001b[39m \u001b[38;5;28;01mtry\u001b[39;00m:\n\u001b[32m   1347\u001b[39m     \u001b[38;5;28;01mtry\u001b[39;00m:\n\u001b[32m-> \u001b[39m\u001b[32m1348\u001b[39m         \u001b[43mh\u001b[49m\u001b[43m.\u001b[49m\u001b[43mrequest\u001b[49m\u001b[43m(\u001b[49m\u001b[43mreq\u001b[49m\u001b[43m.\u001b[49m\u001b[43mget_method\u001b[49m\u001b[43m(\u001b[49m\u001b[43m)\u001b[49m\u001b[43m,\u001b[49m\u001b[43m \u001b[49m\u001b[43mreq\u001b[49m\u001b[43m.\u001b[49m\u001b[43mselector\u001b[49m\u001b[43m,\u001b[49m\u001b[43m \u001b[49m\u001b[43mreq\u001b[49m\u001b[43m.\u001b[49m\u001b[43mdata\u001b[49m\u001b[43m,\u001b[49m\u001b[43m \u001b[49m\u001b[43mheaders\u001b[49m\u001b[43m,\u001b[49m\n\u001b[32m   1349\u001b[39m \u001b[43m                  \u001b[49m\u001b[43mencode_chunked\u001b[49m\u001b[43m=\u001b[49m\u001b[43mreq\u001b[49m\u001b[43m.\u001b[49m\u001b[43mhas_header\u001b[49m\u001b[43m(\u001b[49m\u001b[33;43m'\u001b[39;49m\u001b[33;43mTransfer-encoding\u001b[39;49m\u001b[33;43m'\u001b[39;49m\u001b[43m)\u001b[49m\u001b[43m)\u001b[49m\n\u001b[32m   1350\u001b[39m     \u001b[38;5;28;01mexcept\u001b[39;00m \u001b[38;5;167;01mOSError\u001b[39;00m \u001b[38;5;28;01mas\u001b[39;00m err: \u001b[38;5;66;03m# timeout error\u001b[39;00m\n\u001b[32m   1351\u001b[39m         \u001b[38;5;28;01mraise\u001b[39;00m URLError(err)\n",
      "\u001b[36mFile \u001b[39m\u001b[32m/usr/local/lib/python3.11/http/client.py:1303\u001b[39m, in \u001b[36mHTTPConnection.request\u001b[39m\u001b[34m(self, method, url, body, headers, encode_chunked)\u001b[39m\n\u001b[32m   1300\u001b[39m \u001b[38;5;28;01mdef\u001b[39;00m\u001b[38;5;250m \u001b[39m\u001b[34mrequest\u001b[39m(\u001b[38;5;28mself\u001b[39m, method, url, body=\u001b[38;5;28;01mNone\u001b[39;00m, headers={}, *,\n\u001b[32m   1301\u001b[39m             encode_chunked=\u001b[38;5;28;01mFalse\u001b[39;00m):\n\u001b[32m   1302\u001b[39m \u001b[38;5;250m    \u001b[39m\u001b[33;03m\"\"\"Send a complete request to the server.\"\"\"\u001b[39;00m\n\u001b[32m-> \u001b[39m\u001b[32m1303\u001b[39m     \u001b[38;5;28;43mself\u001b[39;49m\u001b[43m.\u001b[49m\u001b[43m_send_request\u001b[49m\u001b[43m(\u001b[49m\u001b[43mmethod\u001b[49m\u001b[43m,\u001b[49m\u001b[43m \u001b[49m\u001b[43murl\u001b[49m\u001b[43m,\u001b[49m\u001b[43m \u001b[49m\u001b[43mbody\u001b[49m\u001b[43m,\u001b[49m\u001b[43m \u001b[49m\u001b[43mheaders\u001b[49m\u001b[43m,\u001b[49m\u001b[43m \u001b[49m\u001b[43mencode_chunked\u001b[49m\u001b[43m)\u001b[49m\n",
      "\u001b[36mFile \u001b[39m\u001b[32m/usr/local/lib/python3.11/http/client.py:1349\u001b[39m, in \u001b[36mHTTPConnection._send_request\u001b[39m\u001b[34m(self, method, url, body, headers, encode_chunked)\u001b[39m\n\u001b[32m   1345\u001b[39m \u001b[38;5;28;01mif\u001b[39;00m \u001b[38;5;28misinstance\u001b[39m(body, \u001b[38;5;28mstr\u001b[39m):\n\u001b[32m   1346\u001b[39m     \u001b[38;5;66;03m# RFC 2616 Section 3.7.1 says that text default has a\u001b[39;00m\n\u001b[32m   1347\u001b[39m     \u001b[38;5;66;03m# default charset of iso-8859-1.\u001b[39;00m\n\u001b[32m   1348\u001b[39m     body = _encode(body, \u001b[33m'\u001b[39m\u001b[33mbody\u001b[39m\u001b[33m'\u001b[39m)\n\u001b[32m-> \u001b[39m\u001b[32m1349\u001b[39m \u001b[38;5;28;43mself\u001b[39;49m\u001b[43m.\u001b[49m\u001b[43mendheaders\u001b[49m\u001b[43m(\u001b[49m\u001b[43mbody\u001b[49m\u001b[43m,\u001b[49m\u001b[43m \u001b[49m\u001b[43mencode_chunked\u001b[49m\u001b[43m=\u001b[49m\u001b[43mencode_chunked\u001b[49m\u001b[43m)\u001b[49m\n",
      "\u001b[36mFile \u001b[39m\u001b[32m/usr/local/lib/python3.11/http/client.py:1298\u001b[39m, in \u001b[36mHTTPConnection.endheaders\u001b[39m\u001b[34m(self, message_body, encode_chunked)\u001b[39m\n\u001b[32m   1296\u001b[39m \u001b[38;5;28;01melse\u001b[39;00m:\n\u001b[32m   1297\u001b[39m     \u001b[38;5;28;01mraise\u001b[39;00m CannotSendHeader()\n\u001b[32m-> \u001b[39m\u001b[32m1298\u001b[39m \u001b[38;5;28;43mself\u001b[39;49m\u001b[43m.\u001b[49m\u001b[43m_send_output\u001b[49m\u001b[43m(\u001b[49m\u001b[43mmessage_body\u001b[49m\u001b[43m,\u001b[49m\u001b[43m \u001b[49m\u001b[43mencode_chunked\u001b[49m\u001b[43m=\u001b[49m\u001b[43mencode_chunked\u001b[49m\u001b[43m)\u001b[49m\n",
      "\u001b[36mFile \u001b[39m\u001b[32m/usr/local/lib/python3.11/http/client.py:1058\u001b[39m, in \u001b[36mHTTPConnection._send_output\u001b[39m\u001b[34m(self, message_body, encode_chunked)\u001b[39m\n\u001b[32m   1056\u001b[39m msg = \u001b[33mb\u001b[39m\u001b[33m\"\u001b[39m\u001b[38;5;130;01m\\r\u001b[39;00m\u001b[38;5;130;01m\\n\u001b[39;00m\u001b[33m\"\u001b[39m.join(\u001b[38;5;28mself\u001b[39m._buffer)\n\u001b[32m   1057\u001b[39m \u001b[38;5;28;01mdel\u001b[39;00m \u001b[38;5;28mself\u001b[39m._buffer[:]\n\u001b[32m-> \u001b[39m\u001b[32m1058\u001b[39m \u001b[38;5;28;43mself\u001b[39;49m\u001b[43m.\u001b[49m\u001b[43msend\u001b[49m\u001b[43m(\u001b[49m\u001b[43mmsg\u001b[49m\u001b[43m)\u001b[49m\n\u001b[32m   1060\u001b[39m \u001b[38;5;28;01mif\u001b[39;00m message_body \u001b[38;5;129;01mis\u001b[39;00m \u001b[38;5;129;01mnot\u001b[39;00m \u001b[38;5;28;01mNone\u001b[39;00m:\n\u001b[32m   1061\u001b[39m \n\u001b[32m   1062\u001b[39m     \u001b[38;5;66;03m# create a consistent interface to message_body\u001b[39;00m\n\u001b[32m   1063\u001b[39m     \u001b[38;5;28;01mif\u001b[39;00m \u001b[38;5;28mhasattr\u001b[39m(message_body, \u001b[33m'\u001b[39m\u001b[33mread\u001b[39m\u001b[33m'\u001b[39m):\n\u001b[32m   1064\u001b[39m         \u001b[38;5;66;03m# Let file-like take precedence over byte-like.  This\u001b[39;00m\n\u001b[32m   1065\u001b[39m         \u001b[38;5;66;03m# is needed to allow the current position of mmap'ed\u001b[39;00m\n\u001b[32m   1066\u001b[39m         \u001b[38;5;66;03m# files to be taken into account.\u001b[39;00m\n",
      "\u001b[36mFile \u001b[39m\u001b[32m/usr/local/lib/python3.11/http/client.py:996\u001b[39m, in \u001b[36mHTTPConnection.send\u001b[39m\u001b[34m(self, data)\u001b[39m\n\u001b[32m    994\u001b[39m \u001b[38;5;28;01mif\u001b[39;00m \u001b[38;5;28mself\u001b[39m.sock \u001b[38;5;129;01mis\u001b[39;00m \u001b[38;5;28;01mNone\u001b[39;00m:\n\u001b[32m    995\u001b[39m     \u001b[38;5;28;01mif\u001b[39;00m \u001b[38;5;28mself\u001b[39m.auto_open:\n\u001b[32m--> \u001b[39m\u001b[32m996\u001b[39m         \u001b[38;5;28;43mself\u001b[39;49m\u001b[43m.\u001b[49m\u001b[43mconnect\u001b[49m\u001b[43m(\u001b[49m\u001b[43m)\u001b[49m\n\u001b[32m    997\u001b[39m     \u001b[38;5;28;01melse\u001b[39;00m:\n\u001b[32m    998\u001b[39m         \u001b[38;5;28;01mraise\u001b[39;00m NotConnected()\n",
      "\u001b[36mFile \u001b[39m\u001b[32m/usr/local/lib/python3.11/http/client.py:1468\u001b[39m, in \u001b[36mHTTPSConnection.connect\u001b[39m\u001b[34m(self)\u001b[39m\n\u001b[32m   1465\u001b[39m \u001b[38;5;28;01mdef\u001b[39;00m\u001b[38;5;250m \u001b[39m\u001b[34mconnect\u001b[39m(\u001b[38;5;28mself\u001b[39m):\n\u001b[32m   1466\u001b[39m     \u001b[33m\"\u001b[39m\u001b[33mConnect to a host on a given (SSL) port.\u001b[39m\u001b[33m\"\u001b[39m\n\u001b[32m-> \u001b[39m\u001b[32m1468\u001b[39m     \u001b[38;5;28;43msuper\u001b[39;49m\u001b[43m(\u001b[49m\u001b[43m)\u001b[49m\u001b[43m.\u001b[49m\u001b[43mconnect\u001b[49m\u001b[43m(\u001b[49m\u001b[43m)\u001b[49m\n\u001b[32m   1470\u001b[39m     \u001b[38;5;28;01mif\u001b[39;00m \u001b[38;5;28mself\u001b[39m._tunnel_host:\n\u001b[32m   1471\u001b[39m         server_hostname = \u001b[38;5;28mself\u001b[39m._tunnel_host\n",
      "\u001b[36mFile \u001b[39m\u001b[32m/usr/local/lib/python3.11/http/client.py:962\u001b[39m, in \u001b[36mHTTPConnection.connect\u001b[39m\u001b[34m(self)\u001b[39m\n\u001b[32m    960\u001b[39m \u001b[38;5;250m\u001b[39m\u001b[33;03m\"\"\"Connect to the host and port specified in __init__.\"\"\"\u001b[39;00m\n\u001b[32m    961\u001b[39m sys.audit(\u001b[33m\"\u001b[39m\u001b[33mhttp.client.connect\u001b[39m\u001b[33m\"\u001b[39m, \u001b[38;5;28mself\u001b[39m, \u001b[38;5;28mself\u001b[39m.host, \u001b[38;5;28mself\u001b[39m.port)\n\u001b[32m--> \u001b[39m\u001b[32m962\u001b[39m \u001b[38;5;28mself\u001b[39m.sock = \u001b[38;5;28;43mself\u001b[39;49m\u001b[43m.\u001b[49m\u001b[43m_create_connection\u001b[49m\u001b[43m(\u001b[49m\n\u001b[32m    963\u001b[39m \u001b[43m    \u001b[49m\u001b[43m(\u001b[49m\u001b[38;5;28;43mself\u001b[39;49m\u001b[43m.\u001b[49m\u001b[43mhost\u001b[49m\u001b[43m,\u001b[49m\u001b[38;5;28;43mself\u001b[39;49m\u001b[43m.\u001b[49m\u001b[43mport\u001b[49m\u001b[43m)\u001b[49m\u001b[43m,\u001b[49m\u001b[43m \u001b[49m\u001b[38;5;28;43mself\u001b[39;49m\u001b[43m.\u001b[49m\u001b[43mtimeout\u001b[49m\u001b[43m,\u001b[49m\u001b[43m \u001b[49m\u001b[38;5;28;43mself\u001b[39;49m\u001b[43m.\u001b[49m\u001b[43msource_address\u001b[49m\u001b[43m)\u001b[49m\n\u001b[32m    964\u001b[39m \u001b[38;5;66;03m# Might fail in OSs that don't implement TCP_NODELAY\u001b[39;00m\n\u001b[32m    965\u001b[39m \u001b[38;5;28;01mtry\u001b[39;00m:\n",
      "\u001b[36mFile \u001b[39m\u001b[32m/usr/local/lib/python3.11/socket.py:848\u001b[39m, in \u001b[36mcreate_connection\u001b[39m\u001b[34m(address, timeout, source_address, all_errors)\u001b[39m\n\u001b[32m    846\u001b[39m \u001b[38;5;28;01mif\u001b[39;00m source_address:\n\u001b[32m    847\u001b[39m     sock.bind(source_address)\n\u001b[32m--> \u001b[39m\u001b[32m848\u001b[39m \u001b[43msock\u001b[49m\u001b[43m.\u001b[49m\u001b[43mconnect\u001b[49m\u001b[43m(\u001b[49m\u001b[43msa\u001b[49m\u001b[43m)\u001b[49m\n\u001b[32m    849\u001b[39m \u001b[38;5;66;03m# Break explicitly a reference cycle\u001b[39;00m\n\u001b[32m    850\u001b[39m exceptions.clear()\n",
      "\u001b[31mKeyboardInterrupt\u001b[39m: "
     ]
    }
   ],
   "source": [
    "verde_df = open_usgs_data(site, begin_date, end_date)\n",
    "daymet_df = daymet_df.reindex(verde_df.index)\n",
    "daymet_df['streamflow'] = verde_df['streamflow']\n",
    "df = daymet_df"
   ]
  },
  {
   "cell_type": "markdown",
   "metadata": {},
   "source": [
    "And now we can do some comparisons!"
   ]
  },
  {
   "cell_type": "code",
   "execution_count": null,
   "metadata": {},
   "outputs": [],
   "source": [
    "df_monthly = df.resample('M').mean()\n",
    "df_monthly.plot.scatter(x='tmax (deg c)', y='streamflow')\n",
    "plt.semilogy()"
   ]
  },
  {
   "cell_type": "code",
   "execution_count": null,
   "metadata": {},
   "outputs": [],
   "source": []
  }
 ],
 "metadata": {
  "kernelspec": {
<<<<<<< HEAD
   "display_name": "hwrs564a_course_materials_guybwall",
=======
   "display_name": "hwrs564a",
>>>>>>> cff3b267c4f4500fbba18e12aad781327adfe067
   "language": "python",
   "name": "hwrs564a"
  },
  "language_info": {
   "codemirror_mode": {
    "name": "ipython",
    "version": 3
   },
   "file_extension": ".py",
   "mimetype": "text/x-python",
   "name": "python",
   "nbconvert_exporter": "python",
   "pygments_lexer": "ipython3",
   "version": "3.11.13"
  }
 },
 "nbformat": 4,
 "nbformat_minor": 5
}
