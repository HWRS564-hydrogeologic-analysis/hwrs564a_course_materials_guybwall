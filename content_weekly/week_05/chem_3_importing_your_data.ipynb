{
 "cells": [
  {
   "cell_type": "markdown",
   "metadata": {},
   "source": [
    "# Importing and cleaning your own data to plot with WQChartPy\n",
    "\n",
    "In this notebook we will demonstrate how to build your own WQChartPy compatible dataframes. We start by importing as usual. The data for your HW3 and 4 have been placed in `./datasets/Data for HW #3 & 4.xlsx`. We will build this notebook together!"
   ]
  },
  {
   "cell_type": "code",
   "execution_count": 2,
   "metadata": {},
   "outputs": [],
   "source": [
    "# Import required libraries\n",
    "import pandas as pd\n",
    "import numpy as np\n",
    "import matplotlib.pyplot as plt\n",
    "\n",
    "from wqchartpy import triangle_piper, stiff"
   ]
  },
  {
   "cell_type": "code",
   "execution_count": 3,
   "metadata": {},
   "outputs": [
    {
     "data": {
      "text/html": [
       "<div>\n",
       "<style scoped>\n",
       "    .dataframe tbody tr th:only-of-type {\n",
       "        vertical-align: middle;\n",
       "    }\n",
       "\n",
       "    .dataframe tbody tr th {\n",
       "        vertical-align: top;\n",
       "    }\n",
       "\n",
       "    .dataframe thead th {\n",
       "        text-align: right;\n",
       "    }\n",
       "</style>\n",
       "<table border=\"1\" class=\"dataframe\">\n",
       "  <thead>\n",
       "    <tr style=\"text-align: right;\">\n",
       "      <th></th>\n",
       "      <th>Well</th>\n",
       "      <th>Ca</th>\n",
       "      <th>Mg</th>\n",
       "      <th>Na</th>\n",
       "      <th>K</th>\n",
       "      <th>Si</th>\n",
       "      <th>F</th>\n",
       "      <th>Cl</th>\n",
       "      <th>HCO3</th>\n",
       "      <th>SO4</th>\n",
       "      <th>NO3</th>\n",
       "      <th>pH</th>\n",
       "      <th>Temp (°C)</th>\n",
       "    </tr>\n",
       "  </thead>\n",
       "  <tbody>\n",
       "    <tr>\n",
       "      <th>0</th>\n",
       "      <td>F-008A</td>\n",
       "      <td>36.7</td>\n",
       "      <td>4.25</td>\n",
       "      <td>14.7</td>\n",
       "      <td>1.22</td>\n",
       "      <td>12.2</td>\n",
       "      <td>0.16</td>\n",
       "      <td>4.80</td>\n",
       "      <td>134.0</td>\n",
       "      <td>12.3</td>\n",
       "      <td>13.10</td>\n",
       "      <td>7.71</td>\n",
       "      <td>22.3</td>\n",
       "    </tr>\n",
       "    <tr>\n",
       "      <th>1</th>\n",
       "      <td>Martin</td>\n",
       "      <td>30.4</td>\n",
       "      <td>0.83</td>\n",
       "      <td>52.8</td>\n",
       "      <td>1.88</td>\n",
       "      <td>14.6</td>\n",
       "      <td>0.21</td>\n",
       "      <td>8.29</td>\n",
       "      <td>131.0</td>\n",
       "      <td>55.2</td>\n",
       "      <td>4.18</td>\n",
       "      <td>7.77</td>\n",
       "      <td>30.0</td>\n",
       "    </tr>\n",
       "    <tr>\n",
       "      <th>2</th>\n",
       "      <td>Note: units in mg/L for all analytes.</td>\n",
       "      <td>NaN</td>\n",
       "      <td>NaN</td>\n",
       "      <td>NaN</td>\n",
       "      <td>NaN</td>\n",
       "      <td>NaN</td>\n",
       "      <td>NaN</td>\n",
       "      <td>NaN</td>\n",
       "      <td>NaN</td>\n",
       "      <td>NaN</td>\n",
       "      <td>NaN</td>\n",
       "      <td>NaN</td>\n",
       "      <td>NaN</td>\n",
       "    </tr>\n",
       "  </tbody>\n",
       "</table>\n",
       "</div>"
      ],
      "text/plain": [
       "                                    Well    Ca    Mg    Na     K    Si     F  \\\n",
       "0                                 F-008A  36.7  4.25  14.7  1.22  12.2  0.16   \n",
       "1                                 Martin  30.4  0.83  52.8  1.88  14.6  0.21   \n",
       "2  Note: units in mg/L for all analytes.   NaN   NaN   NaN   NaN   NaN   NaN   \n",
       "\n",
       "     Cl   HCO3   SO4    NO3    pH  Temp (°C)  \n",
       "0  4.80  134.0  12.3  13.10  7.71       22.3  \n",
       "1  8.29  131.0  55.2   4.18  7.77       30.0  \n",
       "2   NaN    NaN   NaN    NaN   NaN        NaN  "
      ]
     },
     "execution_count": 3,
     "metadata": {},
     "output_type": "execute_result"
    }
   ],
   "source": [
    "df = pd.read_excel('./datasets/Data for HW #3 & 4.xlsx')\n",
    "df.head()"
   ]
  },
  {
   "cell_type": "markdown",
   "metadata": {},
   "source": [
    "# Next steps: Converting the data for your second project\n",
    "\n",
    "We won't cover this in class today, but here's a starter for opening the data, and some leading questions to help you think about making the translation.\n",
    "\n",
    "## Leading questions:\n",
    "\n",
    "- Looks like the true data header might be on the 3rd row, you may have to \"skip rows\" when opening the data\n",
    "- It also looks like the row names have the chemical species, but all of our WQChartPy datasets have it on the columns? How would you swap the rows and & columns for something like a matrix? You can do the same for dataframes\n",
    "- You will also have to add the WQChartPy required columns like the \"Sample\", \"Label\", etc. - Use the above guide as a template for you to add them here.\n",
    "- Additionally, it looks like you will need to \"rename\" the labels for the chemical species - you might consider some sort of a key-value mapping here.\n"
   ]
  },
  {
   "cell_type": "code",
   "execution_count": null,
   "metadata": {},
   "outputs": [],
   "source": [
    "df_proj = pd.read_excel('./datasets/Project #2 Chemistry Input Data.xlsx')\n",
    "print('Dataset has a shape:', df_proj.shape)\n",
    "df_proj"
   ]
  },
  {
   "cell_type": "code",
   "execution_count": null,
   "metadata": {},
   "outputs": [],
   "source": []
  },
  {
   "cell_type": "code",
   "execution_count": null,
   "metadata": {},
   "outputs": [],
   "source": []
  }
 ],
 "metadata": {
  "kernelspec": {
   "display_name": "hwrs564a",
   "language": "python",
   "name": "hwrs564a"
  },
  "language_info": {
   "codemirror_mode": {
    "name": "ipython",
    "version": 3
   },
   "file_extension": ".py",
   "mimetype": "text/x-python",
   "name": "python",
   "nbconvert_exporter": "python",
   "pygments_lexer": "ipython3",
   "version": "3.11.13"
  }
 },
 "nbformat": 4,
 "nbformat_minor": 4
}
